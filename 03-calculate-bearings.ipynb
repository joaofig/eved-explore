{
 "cells": [
  {
   "cell_type": "markdown",
   "id": "5cda3bac-c1e0-4d1e-9b82-545b074e89bd",
   "metadata": {},
   "source": [
    "# 03-Calculate Bearings\n",
    "\n",
    "This notebook estimates the bearings (azimuth) for all locations in the vehicle trips. The bearing is the direction of movement measured in decimal degrees, with zero facing north and angles increasing in the clockwise direction. \n",
    "\n",
    "**Requirements:**\n",
    "\n",
    "- Please run the `02-import-data.ipynb` notebook first and its dependencies.\n",
    "- Recommended install: [ipywidgets](https://ipywidgets.readthedocs.io/en/stable/user_install.html). Enable using `jupyter nbextension enable --py widgetsnbextension --sys-prefix` for Jupyter Notebook and `jupyter labextension install @jupyter-widgets/jupyterlab-manager` for Jupyter Lab."
   ]
  },
  {
   "cell_type": "code",
   "execution_count": 1,
   "id": "5d388eb6-b5ec-4d25-9c61-70d3908610ec",
   "metadata": {},
   "outputs": [],
   "source": [
    "import os\n",
    "import numpy as np\n",
    "import pandas as pd\n",
    "\n",
    "from tqdm.notebook import tqdm\n",
    "from db.api import EVedDb\n",
    "from geo.math import vec_bearings"
   ]
  },
  {
   "cell_type": "code",
   "execution_count": null,
   "id": "0a810771-8024-44b3-bf9d-a5b6d008a361",
   "metadata": {},
   "outputs": [],
   "source": []
  },
  {
   "cell_type": "code",
   "execution_count": 2,
   "id": "d842c0ea-dbfe-4c77-9c07-e13337221012",
   "metadata": {},
   "outputs": [],
   "source": [
    "db = EVedDb()"
   ]
  },
  {
   "cell_type": "code",
   "execution_count": null,
   "id": "089aa150-6554-4f57-8542-19f60dd77dca",
   "metadata": {},
   "outputs": [],
   "source": []
  },
  {
   "cell_type": "code",
   "execution_count": 3,
   "id": "ab2a5154-c564-45f9-be75-3f46ef087c31",
   "metadata": {},
   "outputs": [],
   "source": [
    "trips = db.query(\"select distinct vehicle_id, trip_id from signal;\")"
   ]
  },
  {
   "cell_type": "code",
   "execution_count": null,
   "id": "7b7fa235-1d09-49b2-9961-213b0e34837e",
   "metadata": {},
   "outputs": [],
   "source": []
  },
  {
   "cell_type": "code",
   "execution_count": 4,
   "id": "de43c21c-5853-45c2-94e2-21f7ba7c8f13",
   "metadata": {},
   "outputs": [
    {
     "data": {
      "text/plain": [
       "32552"
      ]
     },
     "execution_count": 4,
     "metadata": {},
     "output_type": "execute_result"
    }
   ],
   "source": [
    "len(trips)"
   ]
  },
  {
   "cell_type": "code",
   "execution_count": null,
   "id": "f89d826d-f2a3-4bbc-a4e3-59e4fe2676fe",
   "metadata": {},
   "outputs": [],
   "source": []
  },
  {
   "cell_type": "code",
   "execution_count": 5,
   "id": "5058ec15-ca08-402f-a95b-1d1bb684453d",
   "metadata": {},
   "outputs": [],
   "source": [
    "def get_trip_locations(vehicle_id, trip_id):\n",
    "    sql = \"\"\"\n",
    "    select   max(signal_id)\n",
    "    ,        match_latitude\n",
    "    ,        match_longitude\n",
    "    ,        max(time_stamp)\n",
    "    from     signal \n",
    "    where    vehicle_id = ? and trip_id = ?\n",
    "    group by match_latitude, match_longitude\n",
    "    order by time_stamp\n",
    "    \"\"\"\n",
    "\n",
    "    locations = db.query(sql, (vehicle_id, trip_id))\n",
    "    return locations"
   ]
  },
  {
   "cell_type": "code",
   "execution_count": null,
   "id": "7be88258-8e8a-4cf4-b8c6-ae846797c92a",
   "metadata": {},
   "outputs": [],
   "source": []
  },
  {
   "cell_type": "code",
   "execution_count": 10,
   "id": "ed1e496b-1f73-4f3e-a81c-9888ba4b8a6b",
   "metadata": {},
   "outputs": [
    {
     "data": {
      "text/plain": [
       "[(16127114, 42.302595, -83.704197, 2500),\n",
       " (16127118, 42.302585, -83.704604, 5900),\n",
       " (16127121, 42.302574, -83.70513, 9400),\n",
       " (16127125, 42.302566, -83.705534, 12500),\n",
       " (16127129, 42.302557, -83.705939, 15900),\n",
       " (16127132, 42.302548, -83.706375, 19500),\n",
       " (16127159, 42.302545, -83.706528, 46500),\n",
       " (16127168, 42.302542, -83.706649, 49900),\n",
       " (16127174, 42.30254, -83.706729, 53000),\n",
       " (16127179, 42.302533, -83.707097, 56200),\n",
       " (16127183, 42.302524, -83.707559, 59900),\n",
       " (16127188, 42.302513, -83.70813, 62300),\n",
       " (16127194, 42.302501, -83.708774, 66300),\n",
       " (16127199, 42.302485, -83.709632, 69200),\n",
       " (16127203, 42.302463, -83.710274, 71800),\n",
       " (16127210, 42.302407, -83.710909, 76300),\n",
       " (16127215, 42.30225, -83.711659, 79800),\n",
       " (16127220, 42.302085, -83.712138, 82600),\n",
       " (16127225, 42.301883, -83.712584, 85300),\n",
       " (16127231, 42.301609, -83.713037, 88900),\n",
       " (16127234, 42.301155, -83.713604, 90900),\n",
       " (16127239, 42.300924, -83.713878, 95900),\n",
       " (16127242, 42.300475, -83.714421, 97000),\n",
       " (16127245, 42.300161, -83.714842, 101300),\n",
       " (16127248, 42.299866, -83.715322, 103300),\n",
       " (16127252, 42.299584, -83.715827, 107800),\n",
       " (16127256, 42.299309, -83.716389, 110000),\n",
       " (16127263, 42.299073, -83.716964, 114500),\n",
       " (16127268, 42.298789, -83.717673, 117600),\n",
       " (16127272, 42.298587, -83.718184, 120800),\n",
       " (16127277, 42.298396, -83.718682, 124500),\n",
       " (16127281, 42.298205, -83.719193, 127100),\n",
       " (16127285, 42.298064, -83.719603, 130200),\n",
       " (16127291, 42.297988, -83.719947, 133200),\n",
       " (16127319, 42.297967, -83.720074, 163000),\n",
       " (16127325, 42.297955, -83.720243, 166700),\n",
       " (16127328, 42.297953, -83.720275, 168000)]"
      ]
     },
     "execution_count": 10,
     "metadata": {},
     "output_type": "execute_result"
    }
   ],
   "source": [
    "get_trip_locations(*trips[0])"
   ]
  },
  {
   "cell_type": "code",
   "execution_count": null,
   "id": "727e228e-dc7f-4f4d-bb3b-325212ddabaa",
   "metadata": {},
   "outputs": [],
   "source": []
  },
  {
   "cell_type": "code",
   "execution_count": 6,
   "id": "6cf3a0d4-679c-4649-83ca-ec9d59cd4e78",
   "metadata": {},
   "outputs": [],
   "source": [
    "def update_bearing_ini(bearing, vehicle_id, trip_id, time_stamp):\n",
    "    sql = \"\"\"update signal set bearing = ? \n",
    "             where vehicle_id = ? and trip_id = ? and time_stamp <= ?\n",
    "          \"\"\"\n",
    "    db.execute_sql(sql, [bearing, vehicle_id, trip_id, time_stamp])"
   ]
  },
  {
   "cell_type": "code",
   "execution_count": 7,
   "id": "2dba06d9-6c06-4a5d-8b0e-aafd2bb4022d",
   "metadata": {},
   "outputs": [],
   "source": [
    "def update_bearing_end(bearing, vehicle_id, trip_id, time_stamp):\n",
    "    sql = \"\"\"update signal set bearing = ? \n",
    "             where vehicle_id = ? and trip_id = ? and time_stamp >= ?\n",
    "          \"\"\"\n",
    "    db.execute_sql(sql, [bearing, vehicle_id, trip_id, time_stamp])"
   ]
  },
  {
   "cell_type": "code",
   "execution_count": 8,
   "id": "fa5f66bb-01fa-47d6-be6b-aa4851f254e1",
   "metadata": {},
   "outputs": [],
   "source": [
    "def update_bearing_mid(bearing, vehicle_id, trip_id, ts0, ts1):\n",
    "    sql = \"\"\"update signal set bearing = ? \n",
    "             where vehicle_id = ? and trip_id = ? and time_stamp > ? and time_stamp <= ?\n",
    "          \"\"\"\n",
    "    db.execute_sql(sql, [bearing, vehicle_id, trip_id, ts0, ts1])"
   ]
  },
  {
   "cell_type": "code",
   "execution_count": null,
   "id": "1efbfb02-2116-4400-8aa6-22fc106cc2fb",
   "metadata": {},
   "outputs": [],
   "source": []
  },
  {
   "cell_type": "markdown",
   "id": "ee70fa21-82d3-4800-b4de-478fc4ffbe57",
   "metadata": {},
   "source": [
    "**Warning:** The next cell takes a **long time** to run. On my 2019 i7 MacBook it took a bit over 75 minutes."
   ]
  },
  {
   "cell_type": "code",
   "execution_count": 9,
   "id": "37dd9cd6-13f3-4544-9338-f7629586b88e",
   "metadata": {},
   "outputs": [
    {
     "data": {
      "application/vnd.jupyter.widget-view+json": {
       "model_id": "32a7e017581b47fabaadb1530aadf199",
       "version_major": 2,
       "version_minor": 0
      },
      "text/plain": [
       "  0%|          | 0/32552 [00:00<?, ?it/s]"
      ]
     },
     "metadata": {},
     "output_type": "display_data"
    }
   ],
   "source": [
    "for trip in tqdm(trips):\n",
    "    vehicle_id, trip_id = trip\n",
    "    \n",
    "    locations = get_trip_locations(vehicle_id, trip_id)\n",
    "    \n",
    "    if len(locations) > 2:   \n",
    "        lats = [l[1] for l in locations]\n",
    "        lons = [l[2] for l in locations]\n",
    "\n",
    "        bearings = vec_bearings(lats, lons)\n",
    "\n",
    "        l = locations[0]\n",
    "        update_bearing_ini(bearings[0], vehicle_id, trip_id, locations[0][3])\n",
    "        update_bearing_end(bearings[-1], vehicle_id, trip_id, locations[-1][3])\n",
    "\n",
    "        for i in range(1, len(locations)):\n",
    "            update_bearing_mid(bearings[i-1], vehicle_id, trip_id, locations[i-1][3], locations[i][3])"
   ]
  },
  {
   "cell_type": "code",
   "execution_count": null,
   "id": "bb76f3c8-fb20-4b31-998c-b5ff2a4040a0",
   "metadata": {},
   "outputs": [],
   "source": []
  }
 ],
 "metadata": {
  "kernelspec": {
   "display_name": "Python 3 (ipykernel)",
   "language": "python",
   "name": "python3"
  },
  "language_info": {
   "codemirror_mode": {
    "name": "ipython",
    "version": 3
   },
   "file_extension": ".py",
   "mimetype": "text/x-python",
   "name": "python",
   "nbconvert_exporter": "python",
   "pygments_lexer": "ipython3",
   "version": "3.10.4"
  }
 },
 "nbformat": 4,
 "nbformat_minor": 5
}
