{
 "cells": [
  {
   "cell_type": "markdown",
   "id": "5cda3bac-c1e0-4d1e-9b82-545b074e89bd",
   "metadata": {},
   "source": [
    "# 03-Calculate Bearings\n",
    "\n",
    "This notebook estimates the bearings (azimuth) for all locations in the vehicle trips. The bearing is the direction of movement measured in decimal degrees, with zero facing north and angles increasing in the clockwise direction. "
   ]
  },
  {
   "cell_type": "code",
   "execution_count": null,
   "id": "876d40df-8ac8-4350-9155-acceada97c09",
   "metadata": {},
   "outputs": [],
   "source": [
    "%run calculate-bearings.py"
   ]
  }
 ],
 "metadata": {
  "kernelspec": {
   "display_name": "Python 3 (ipykernel)",
   "language": "python",
   "name": "python3"
  },
  "language_info": {
   "codemirror_mode": {
    "name": "ipython",
    "version": 3
   },
   "file_extension": ".py",
   "mimetype": "text/x-python",
   "name": "python",
   "nbconvert_exporter": "python",
   "pygments_lexer": "ipython3",
   "version": "3.10.4"
  }
 },
 "nbformat": 4,
 "nbformat_minor": 5
}
