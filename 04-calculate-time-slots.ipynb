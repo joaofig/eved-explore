{
 "cells": [
  {
   "cell_type": "markdown",
   "id": "0a6a5014-54cd-4255-9acd-39a76c10fb2d",
   "metadata": {},
   "source": [
    "# 04-Calculate Time Slots\n",
    "\n",
    "This notebook calculates the weekly and daily time slots\n",
    "\n",
    "**Requirements:**\n",
    "\n",
    "- Please run the `02-import-data.ipynb` notebook first and its dependencies.\n",
    "- Recommended install: [ipywidgets](https://ipywidgets.readthedocs.io/en/stable/user_install.html). Enable using `jupyter nbextension enable --py widgetsnbextension --sys-prefix` for Jupyter Notebook and `jupyter labextension install @jupyter-widgets/jupyterlab-manager` for Jupyter Lab."
   ]
  },
  {
   "cell_type": "code",
   "execution_count": null,
   "id": "e7669e86-9364-4564-b223-0dbd419ddef1",
   "metadata": {},
   "outputs": [],
   "source": [
    "from db.api import EVedDb "
   ]
  },
  {
   "cell_type": "markdown",
   "id": "2e4042d2-8d8e-4bf4-ae60-9d5e199e283d",
   "metadata": {},
   "source": [
    "Create the database API object."
   ]
  },
  {
   "cell_type": "code",
   "execution_count": null,
   "id": "20e4b79b-8aca-4aec-871f-10785e6ff6c9",
   "metadata": {},
   "outputs": [],
   "source": [
    "db = EVedDb()"
   ]
  },
  {
   "cell_type": "markdown",
   "id": "7192e766-4260-49e2-bf3b-097a5662b9fb",
   "metadata": {},
   "source": [
    "Update the `signal` table with the time discretization."
   ]
  },
  {
   "cell_type": "code",
   "execution_count": null,
   "id": "f5c2f24f-2aa5-4739-ad62-c09f33ec2bb1",
   "metadata": {},
   "outputs": [],
   "source": [
    "sql = \"\"\"\n",
    "update signal \n",
    "set week_day = mod(trunc(day_num-1.0/6.0) + 2, 7)\n",
    ",   day_slot = trunc((day_num-1.0/6.0 - trunc(day_num-1.0/6.0)) * 144)\n",
    "\"\"\"\n",
    "\n",
    "db.execute_sql(sql)"
   ]
  },
  {
   "cell_type": "code",
   "execution_count": null,
   "id": "ff7f9c7d-7bd4-432e-9fcc-7395f9288dc7",
   "metadata": {},
   "outputs": [],
   "source": []
  },
  {
   "cell_type": "code",
   "execution_count": 1,
   "id": "37be0823-7cc1-49d2-9691-afb6befea26e",
   "metadata": {},
   "outputs": [],
   "source": [
    "def dow(day_num):\n",
    "    return (int(day_num) + 2) % 7"
   ]
  },
  {
   "cell_type": "code",
   "execution_count": 3,
   "id": "c1f8cee1-6ec6-48f3-bc58-e120fe73048d",
   "metadata": {},
   "outputs": [],
   "source": [
    "def ndow(day_num):\n",
    "    d = dow(day_num)\n",
    "    return [\"sun\", \"mon\", \"tue\", \"wed\", \"thu\", \"fri\", \"sat\"][d]"
   ]
  },
  {
   "cell_type": "code",
   "execution_count": 4,
   "id": "622d7484-a5a3-4876-b92f-f03482c61ad4",
   "metadata": {},
   "outputs": [
    {
     "data": {
      "text/plain": [
       "'wed'"
      ]
     },
     "execution_count": 4,
     "metadata": {},
     "output_type": "execute_result"
    }
   ],
   "source": [
    "ndow(1)"
   ]
  },
  {
   "cell_type": "code",
   "execution_count": 6,
   "id": "461c7d27-4086-4bd4-bc61-e755239416c2",
   "metadata": {},
   "outputs": [
    {
     "data": {
      "text/plain": [
       "'wed'"
      ]
     },
     "execution_count": 6,
     "metadata": {},
     "output_type": "execute_result"
    }
   ],
   "source": [
    "ndow(22)"
   ]
  },
  {
   "cell_type": "code",
   "execution_count": null,
   "id": "12b8314e-08fa-4e87-8643-81ef952ae873",
   "metadata": {},
   "outputs": [],
   "source": []
  }
 ],
 "metadata": {
  "kernelspec": {
   "display_name": "Python 3 (ipykernel)",
   "language": "python",
   "name": "python3"
  },
  "language_info": {
   "codemirror_mode": {
    "name": "ipython",
    "version": 3
   },
   "file_extension": ".py",
   "mimetype": "text/x-python",
   "name": "python",
   "nbconvert_exporter": "python",
   "pygments_lexer": "ipython3",
   "version": "3.10.6"
  }
 },
 "nbformat": 4,
 "nbformat_minor": 5
}
