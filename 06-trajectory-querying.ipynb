{
 "cells": [
  {
   "cell_type": "markdown",
   "id": "545b921b-81e0-4cd7-ad4d-d0576dc79707",
   "metadata": {},
   "source": [
    "# 06-Trajectory Querying\n",
    "\n",
    "This notebooks exemplifies the querying of quadkey-indexed trajectories using the Extended Vehicle Energy Dataset.\n",
    "\n",
    "**Requirements**: Run the `calculate-trajectories.py` script before running this notebook."
   ]
  },
  {
   "cell_type": "code",
   "execution_count": null,
   "id": "6b52d993-e9c5-48c7-984c-2f5c392e2067",
   "metadata": {},
   "outputs": [],
   "source": [
    "import folium\n",
    "import numpy as np\n",
    "import pandas as pd\n",
    "import osmnx as ox\n",
    "import geopandas as gpd\n",
    "import networkx as nx\n",
    "import math\n",
    "\n",
    "from itertools import pairwise\n",
    "from db.api import EVedDb\n",
    "from folium.vector_layers import PolyLine, CircleMarker\n",
    "from pyquadkey2 import quadkey\n",
    "from numba import jit\n",
    "from db.api import EVedDb\n",
    "from tqdm.notebook import tqdm\n",
    "from raster.drawing import smooth_line\n",
    "from geo.qk import tile_to_str"
   ]
  },
  {
   "cell_type": "markdown",
   "id": "3a3ad129-cb33-46e5-8629-1f40b6f178f0",
   "metadata": {},
   "source": [
    "We start by loading the road network from Ann Arbor, Michigan, using the `OSMnx` package."
   ]
  },
  {
   "cell_type": "code",
   "execution_count": null,
   "id": "9918327c-2d74-4578-a465-87529571f406",
   "metadata": {},
   "outputs": [],
   "source": [
    "def load_road_network(place_name, network_type='drive'):\n",
    "    g = ox.graph_from_place(place_name, network_type=network_type, simplify=False)\n",
    "    g = ox.add_edge_speeds(g)\n",
    "    g = ox.add_edge_travel_times(g)\n",
    "    g = ox.bearing.add_edge_bearings(g)\n",
    "    return g"
   ]
  },
  {
   "cell_type": "code",
   "execution_count": null,
   "id": "0f27ff95-7b0e-43c1-9e89-57a6e70f5eb6",
   "metadata": {},
   "outputs": [],
   "source": [
    "g = load_road_network('Ann Arbor, Michigan')"
   ]
  },
  {
   "cell_type": "markdown",
   "id": "75a20fc3-1263-4f8b-ada0-3e5fa6fdfc5d",
   "metadata": {},
   "source": [
    "The `geocode_address` function converts an address to a geospatial coordinate."
   ]
  },
  {
   "cell_type": "code",
   "execution_count": null,
   "id": "d9402d32-f768-46e1-a78d-183e5aaaefe4",
   "metadata": {},
   "outputs": [],
   "source": [
    "def geocode_address(address, crs=4326):\n",
    "    geocode = gpd.tools.geocode(address, \n",
    "                                provider='nominatim', \n",
    "                                user_agent=\"QuadKey trajectory query\").to_crs(crs)\n",
    "    return geocode.iloc[0].geometry.y, geocode.iloc[0].geometry.x"
   ]
  },
  {
   "cell_type": "markdown",
   "id": "86f29bfc-eabb-48d3-aa4d-6d5609221ae7",
   "metadata": {},
   "source": [
    "The `find_route` below uses the `geocode_address` function to generate a route between any two given addresses. The  generated route is a list of road network nodes."
   ]
  },
  {
   "cell_type": "code",
   "execution_count": null,
   "id": "ff7295dc-35cc-48a7-bec5-0c465275e208",
   "metadata": {},
   "outputs": [],
   "source": [
    "def find_route(g, addr_ini, addr_end, weight='travel_time'):\n",
    "    loc_ini = geocode_address(addr_ini)\n",
    "    loc_end = geocode_address(addr_end)\n",
    "    node_ini = ox.distance.nearest_nodes(g, loc_ini[1], loc_ini[0])\n",
    "    node_end = ox.distance.nearest_nodes(g, loc_end[1], loc_end[0])\n",
    "    route = nx.shortest_path(g, node_ini, node_end, weight=weight)\n",
    "    return route"
   ]
  },
  {
   "cell_type": "code",
   "execution_count": null,
   "id": "5753b9a4-a262-442f-a4f8-8e799ee69d6c",
   "metadata": {},
   "outputs": [],
   "source": [
    "route = find_route(g,\n",
    "                   addr_ini=\"122 N Thayer St, Ann Arbor, MI 48104, USA\",\n",
    "                   addr_end=\"1431 Ardmoor Ave, Ann Arbor, MI 48103, USA\")"
   ]
  },
  {
   "cell_type": "markdown",
   "id": "864dd05d-ed34-4bd6-82bf-14d2de09a32b",
   "metadata": {},
   "source": [
    "The `fit_bounding_box` uses a list of locations to fit a bounding box for the displayed data and set the appropriate map center and zoom."
   ]
  },
  {
   "cell_type": "code",
   "execution_count": null,
   "id": "e77acfc4-b71a-40ac-a52c-ce53c088d7e8",
   "metadata": {},
   "outputs": [],
   "source": [
    "def fit_bounding_box(html_map, bb_list):\n",
    "    if isinstance(bb_list, list):\n",
    "        ll = np.array(bb_list)\n",
    "    else:\n",
    "        ll = bb_list\n",
    "        \n",
    "    min_lat, max_lat = ll[:, 0].min(), ll[:, 0].max()\n",
    "    min_lon, max_lon = ll[:, 1].min(), ll[:, 1].max()\n",
    "    html_map.fit_bounds([[min_lat, min_lon], [max_lat, max_lon]])\n",
    "    return html_map"
   ]
  },
  {
   "cell_type": "code",
   "execution_count": null,
   "id": "911b88f0-0857-447d-aaaf-3749d7fca3f4",
   "metadata": {},
   "outputs": [],
   "source": [
    "def map_route(g, route):\n",
    "    html_map = folium.Map(prefer_canvas=True, tiles=\"cartodbpositron\", max_zoom=20, control_scale=True)\n",
    "    \n",
    "    empty_edges = []\n",
    "    bb_list = []\n",
    "    \n",
    "    for n in route:\n",
    "        loc = g.nodes[n]\n",
    "        # CircleMarker((loc['y'], loc['x']), radius=2, color=\"red\", fill=\"red\", opacity=0.5, tooltip=n, popup=n).add_to(html_map)\n",
    "        bb_list.append((loc['y'], loc['x']))\n",
    "    \n",
    "    for n0, n1 in pairwise(route):\n",
    "        edge = g[n0][n1]\n",
    "        l0 = g.nodes[n0]\n",
    "        l1 = g.nodes[n1]\n",
    "        line = [(l0['y'], l0['x']), (l1['y'], l1['x'])]\n",
    "        \n",
    "        PolyLine(line, weight=5, opacity=0.5, popup=edge[0]).add_to(html_map)\n",
    "        \n",
    "    return fit_bounding_box(html_map, bb_list)"
   ]
  },
  {
   "cell_type": "code",
   "execution_count": null,
   "id": "6f3303ee-697b-4a15-9f1b-c883ff825b47",
   "metadata": {
    "tags": []
   },
   "outputs": [],
   "source": [
    "map_route(g, route)"
   ]
  },
  {
   "cell_type": "markdown",
   "id": "706ba183-f895-4df2-b64c-3f3061baf09c",
   "metadata": {},
   "source": [
    "The `get_qk_line` function _draws_ a quadkey line between two endpoints and returns it as a list."
   ]
  },
  {
   "cell_type": "code",
   "execution_count": null,
   "id": "6d5644fb-926c-4e58-ad80-a84c03daf32c",
   "metadata": {},
   "outputs": [],
   "source": [
    "def get_qk_line(loc0, loc1, level):\n",
    "    qk0 = quadkey.from_geo((loc0['y'], loc0['x']), level)\n",
    "    qk1 = quadkey.from_geo((loc1['y'], loc1['x']), level)\n",
    "    \n",
    "    ((tx0, ty0), _) = qk0.to_tile()\n",
    "    ((tx1, ty1), _) = qk1.to_tile()\n",
    "\n",
    "    line = smooth_line(tx0, ty0, tx1, ty1)\n",
    "    return [(quadkey.from_str(tile_to_str(int(p[0]), int(p[1]), level)), p[2]) for p in line if p[2] > 0.0]"
   ]
  },
  {
   "cell_type": "markdown",
   "id": "4ee91117-df4c-459c-af91-92aa3f30e148",
   "metadata": {},
   "source": [
    "The `get_route_quadkeys` generates the unique quadkey codes that correspond to the route gepgraphy."
   ]
  },
  {
   "cell_type": "code",
   "execution_count": null,
   "id": "282ee735-642d-416e-aaa0-42e730e29577",
   "metadata": {},
   "outputs": [],
   "source": [
    "def get_route_quadkeys(g, route, level=20):\n",
    "    qks = set()\n",
    "    shift = 64 - 2 * level\n",
    "    for n0, n1 in pairwise(route):\n",
    "        edge = g[n0][n1]\n",
    "        l0 = g.nodes[n0]\n",
    "        l1 = g.nodes[n1]\n",
    "        qks.update([(qk.to_quadint() >> shift, edge[0]['bearing']) \\\n",
    "                    for qk, _ in get_qk_line(l0, l1, level)])\n",
    "    return list(qks)"
   ]
  },
  {
   "cell_type": "code",
   "execution_count": null,
   "id": "52b1f06b-ed1c-4f70-9721-6e0673ca132e",
   "metadata": {},
   "outputs": [],
   "source": []
  },
  {
   "cell_type": "markdown",
   "id": "d9c9a530-67e6-48af-abd3-bd6a1059fb01",
   "metadata": {},
   "source": [
    "The `load_signal_range` function loads a sequence of unique locations from a range of indices."
   ]
  },
  {
   "cell_type": "code",
   "execution_count": null,
   "id": "9dcb2b0a-3c63-49f9-9c75-cbfeaa02f13f",
   "metadata": {},
   "outputs": [],
   "source": [
    "def load_signal_range(r):\n",
    "    db = EVedDb()\n",
    "    sql = \"\"\"\n",
    "    select   match_latitude\n",
    "    ,        match_longitude \n",
    "    from     signal \n",
    "    where    signal_id >= ? and signal_id <= ?\n",
    "    \"\"\"\n",
    "    \n",
    "    points = []\n",
    "    all_points = db.query(sql, [int(r[0]), int(r[1])])\n",
    "    for p0, p1 in pairwise(all_points):\n",
    "        if len(points) == 0:\n",
    "            points.append(p0)  \n",
    "        elif p0 != p1:\n",
    "            points.append(p1)\n",
    "            \n",
    "    return points"
   ]
  },
  {
   "cell_type": "code",
   "execution_count": null,
   "id": "9958bef8-22ab-4260-b9d5-c09444f61fec",
   "metadata": {},
   "outputs": [],
   "source": []
  },
  {
   "cell_type": "code",
   "execution_count": null,
   "id": "b3bb42b5-e171-410b-833d-37f560fda250",
   "metadata": {},
   "outputs": [],
   "source": [
    "def load_trajectory_quadkeys(traj_id):\n",
    "    db = EVedDb()\n",
    "    \n",
    "    sql = \"\"\"\n",
    "    select     s.quadkey\n",
    "    from       signal s\n",
    "    inner join trajectory t on s.vehicle_id = t.vehicle_id and s.trip_id = t.trip_id\n",
    "    where      t.traj_id = ?;\n",
    "    \"\"\"\n",
    "    qks = {qk[0] for qk in db.query(sql, [traj_id])}\n",
    "    return qks"
   ]
  },
  {
   "cell_type": "code",
   "execution_count": null,
   "id": "f8accc41-8dd6-4836-b5c1-8b05b60505d9",
   "metadata": {},
   "outputs": [],
   "source": []
  },
  {
   "cell_type": "code",
   "execution_count": null,
   "id": "524b2180-b764-49b3-8eb4-079a5a5ecc8d",
   "metadata": {},
   "outputs": [],
   "source": [
    "def load_trajectory_points(traj_id):\n",
    "    db = EVedDb()\n",
    "    \n",
    "    sql = \"\"\"\n",
    "    select     distinct\n",
    "               s.match_latitude\n",
    "    ,          s.match_longitude\n",
    "    from       signal s\n",
    "    inner join trajectory t on s.vehicle_id = t.vehicle_id and s.trip_id = t.trip_id\n",
    "    where      t.traj_id = ?\n",
    "    order by   s.signal_id;\n",
    "    \"\"\"\n",
    "    return db.query(sql, [traj_id])"
   ]
  },
  {
   "cell_type": "code",
   "execution_count": null,
   "id": "0bc32e6e-b752-466a-a8a4-4020beb1a367",
   "metadata": {},
   "outputs": [],
   "source": []
  },
  {
   "cell_type": "code",
   "execution_count": null,
   "id": "53a7323c-d577-4039-a696-8738d6a16c8d",
   "metadata": {},
   "outputs": [],
   "source": [
    "def load_link_points(link_id):\n",
    "    db = EVedDb()\n",
    "    \n",
    "    get_range_sql = \"select signal_ini, signal_end from link where link_id=?\"\n",
    "    ranges = db.query(get_range_sql, [link_id])\n",
    "    \n",
    "    if len(ranges):\n",
    "        get_points_sql = \"\"\"\n",
    "        select distinct match_latitude\n",
    "        ,               match_longitude \n",
    "        from            signal \n",
    "        where           signal_id >= ? and signal_id <= ?\n",
    "        order by        signal_id\n",
    "        \"\"\"\n",
    "        return db.query(get_points_sql, [ranges[0][0], ranges[0][1]])\n",
    "    else:\n",
    "        return []"
   ]
  },
  {
   "cell_type": "code",
   "execution_count": null,
   "id": "619b5976-3e50-44db-8c95-67dfd08b72ce",
   "metadata": {},
   "outputs": [],
   "source": [
    "load_link_points(1)"
   ]
  },
  {
   "cell_type": "code",
   "execution_count": null,
   "id": "4c1cbc61-10f5-43a6-b94b-0a0193a25c63",
   "metadata": {},
   "outputs": [],
   "source": [
    "def get_overlapping_links(g, route, level=20, angle_delta=2.5):\n",
    "    qks = get_route_quadkeys(g, route, level)\n",
    "    cos_angle_delta = math.cos(math.radians(angle_delta))\n",
    "    \n",
    "    sql = \"\"\"\n",
    "    select     q.link_id\n",
    "    ,          l.traj_id\n",
    "    ,          l.signal_ini\n",
    "    ,          l.signal_end\n",
    "    from       link_qk q\n",
    "    inner join link l on l.link_id = q.link_id\n",
    "    where      q.quadkey = ? and l.bearing > 0 and cos(radians(l.bearing - ?)) >= ?;\n",
    "    \"\"\"\n",
    "    db = EVedDb()\n",
    "    links = set()\n",
    "    for qk, bearing in qks:\n",
    "        links.update(db.query(sql, [qk, bearing, cos_angle_delta]))\n",
    "    return np.array(list(links))"
   ]
  },
  {
   "cell_type": "code",
   "execution_count": null,
   "id": "40ab8516-d75c-49b0-9321-566b8b49061a",
   "metadata": {},
   "outputs": [],
   "source": []
  },
  {
   "cell_type": "code",
   "execution_count": null,
   "id": "2e01d43c-8610-481e-b094-138f0dc6e344",
   "metadata": {},
   "outputs": [],
   "source": [
    "@jit(nopython=True)\n",
    "def get_contiguous_ranges(signal_ini, signal_end):\n",
    "    ranges = np.zeros((signal_ini.shape[0], 2))\n",
    "    ini = signal_ini[0]\n",
    "    end = signal_end[0]\n",
    "    \n",
    "    j = 0\n",
    "    for i in range(1, signal_ini.shape[0]):\n",
    "        end = signal_end[i-1]\n",
    "        if signal_ini[i] != end:\n",
    "            ranges[j, 0] = ini\n",
    "            ranges[j, 1] = end\n",
    "            j += 1\n",
    "            ini = signal_ini[i]\n",
    "            \n",
    "    if j == 0:\n",
    "        ranges[j, 0] = ini\n",
    "        ranges[j, 1] = end\n",
    "        j += 1\n",
    "\n",
    "    return ranges[:j, :]"
   ]
  },
  {
   "cell_type": "code",
   "execution_count": null,
   "id": "c206586d-b85e-410f-99ee-b12293025e42",
   "metadata": {},
   "outputs": [],
   "source": []
  },
  {
   "cell_type": "code",
   "execution_count": null,
   "id": "4f6287cb-f98c-4cef-9759-879e1952e633",
   "metadata": {},
   "outputs": [],
   "source": [
    "def get_matching_trajectories(g, route, level=20, angle_delta=2.5):\n",
    "    links = get_overlapping_links(g, route, level, angle_delta)\n",
    "    trajectories = np.unique(links[:, 1])\n",
    "    return trajectories, links"
   ]
  },
  {
   "cell_type": "code",
   "execution_count": null,
   "id": "f9b32036-d2a3-4c55-95d0-1d75d8944bdb",
   "metadata": {},
   "outputs": [],
   "source": []
  },
  {
   "cell_type": "code",
   "execution_count": null,
   "id": "fc2e1374-1380-48d8-88e8-d9c92f311ec8",
   "metadata": {},
   "outputs": [],
   "source": [
    "def get_overlapping_signal_ranges(g, route, level=20, angle_delta=2.5):\n",
    "    trajectories, links = get_matching_trajectories(g, route, level, angle_delta)\n",
    "    \n",
    "    ranges = []\n",
    "    for t in trajectories:\n",
    "        index = links[:, 1] == t\n",
    "        \n",
    "        signal_ini = links[index, 2]\n",
    "        signal_end = links[index, 3]\n",
    "        ranges.extend(get_contiguous_ranges(signal_ini, signal_end).tolist())\n",
    "    return ranges"
   ]
  },
  {
   "cell_type": "code",
   "execution_count": null,
   "id": "7bcb3149-3c7a-488c-a06b-c79d8744805e",
   "metadata": {},
   "outputs": [],
   "source": []
  },
  {
   "cell_type": "code",
   "execution_count": null,
   "id": "35e3ae16-ba5b-4219-b4e8-f07ef30c2e05",
   "metadata": {},
   "outputs": [],
   "source": [
    "def map_matching_links(g, route):\n",
    "    html_map = folium.Map(prefer_canvas=True, tiles=\"cartodbpositron\", max_zoom=20, control_scale=True)\n",
    "    \n",
    "    empty_edges = []\n",
    "    bb_list = []\n",
    "    \n",
    "    ranges = get_overlapping_signal_ranges(g, route)\n",
    "    for r in tqdm(ranges):\n",
    "        line = load_signal_range(r)\n",
    "        if len(line):\n",
    "            bb_list.extend(line)\n",
    "            PolyLine(line, weight=3, color=\"red\", opacity=0.5, popup=r).add_to(html_map)\n",
    "\n",
    "    line = []\n",
    "    for n in route:\n",
    "        loc = g.nodes[n]\n",
    "        p = (loc['y'], loc['x'])\n",
    "        line.append(p)\n",
    "        bb_list.append(p)\n",
    "        \n",
    "    PolyLine(line, weight=5, opacity=0.5).add_to(html_map)\n",
    "\n",
    "    return fit_bounding_box(html_map, bb_list)"
   ]
  },
  {
   "cell_type": "code",
   "execution_count": null,
   "id": "22f64124-5c4b-4cf2-bf72-05a69532bd6f",
   "metadata": {},
   "outputs": [],
   "source": [
    "# map_matching_links(g, route)"
   ]
  },
  {
   "cell_type": "code",
   "execution_count": null,
   "id": "32b52b76-e59f-458f-90a9-963e22daf357",
   "metadata": {},
   "outputs": [],
   "source": []
  },
  {
   "cell_type": "code",
   "execution_count": null,
   "id": "8c407ded-4737-4b23-8025-28083e510f44",
   "metadata": {},
   "outputs": [],
   "source": [
    "def jaccard_similarity(set0, set1):\n",
    "    return len(set0 & set1) / len(set0 | set1)"
   ]
  },
  {
   "cell_type": "code",
   "execution_count": null,
   "id": "95aebd3a-31ad-4fa5-8593-901879cb48bf",
   "metadata": {},
   "outputs": [],
   "source": []
  },
  {
   "cell_type": "code",
   "execution_count": null,
   "id": "52c769b2-a181-45f2-b3b9-0e556a8b08e5",
   "metadata": {},
   "outputs": [],
   "source": [
    "def calculate_trajectory_matches(g, route, level=20):\n",
    "    trajectories, links = get_matching_trajectories(g, route, level)\n",
    "    \n",
    "    route_qks = {qk[0] for qk in get_route_quadkeys(g, route, level)}\n",
    "    data = []\n",
    "    for trajectory in trajectories:\n",
    "        traj_qks = load_trajectory_quadkeys(int(trajectory))\n",
    "        similarity = jaccard_similarity(traj_qks, route_qks)\n",
    "        data.append((trajectory, similarity))\n",
    "    return data"
   ]
  },
  {
   "cell_type": "code",
   "execution_count": null,
   "id": "363e218c-9450-4495-bd5b-b5c5238af56a",
   "metadata": {},
   "outputs": [],
   "source": []
  },
  {
   "cell_type": "code",
   "execution_count": null,
   "id": "7c1839d2-14dd-44b9-8a86-8185a0650c35",
   "metadata": {},
   "outputs": [],
   "source": [
    "match_df = pd.DataFrame(data=calculate_trajectory_matches(g, route), columns=['traj_id', 'similarity'])"
   ]
  },
  {
   "cell_type": "code",
   "execution_count": null,
   "id": "72b734d1-b2fa-4cb2-bead-9737c3e93b2b",
   "metadata": {},
   "outputs": [],
   "source": [
    "match_df[\"percent_rank\"] = match_df[\"similarity\"].rank(pct=True)"
   ]
  },
  {
   "cell_type": "code",
   "execution_count": null,
   "id": "2e07d266-911a-4041-99ba-0605360a4c57",
   "metadata": {},
   "outputs": [],
   "source": [
    "match_df.sort_values(\"percent_rank\", ascending=False)"
   ]
  },
  {
   "cell_type": "code",
   "execution_count": null,
   "id": "3e1f38fb-a427-441c-a69f-6bf7386cf139",
   "metadata": {},
   "outputs": [],
   "source": [
    "match_df[match_df[\"percent_rank\"] > 0.95].sort_values(\"percent_rank\", ascending=False)"
   ]
  },
  {
   "cell_type": "code",
   "execution_count": null,
   "id": "cbe20213-4c3d-43d9-922e-da94b39eeaa8",
   "metadata": {},
   "outputs": [],
   "source": [
    "def get_top_match_trajectories_r(g, route, top=0.05):\n",
    "    match_df = pd.DataFrame(data=calculate_trajectory_matches(g, route), columns=['traj_id', 'similarity'])\n",
    "    match_df[\"percent_rank\"] = match_df[\"similarity\"].rank(pct=True)\n",
    "    \n",
    "    filtered_df = match_df[match_df[\"percent_rank\"] > (1.0 - top)]\n",
    "    trajectories = filtered_df[\"traj_id\"].values\n",
    "    return trajectories"
   ]
  },
  {
   "cell_type": "code",
   "execution_count": null,
   "id": "f5277036-78c5-4f6f-97ab-8b1d4e169a26",
   "metadata": {},
   "outputs": [],
   "source": []
  },
  {
   "cell_type": "code",
   "execution_count": null,
   "id": "1d0a3bc5-972a-4427-8f52-152e7cbeee51",
   "metadata": {},
   "outputs": [],
   "source": []
  },
  {
   "cell_type": "code",
   "execution_count": null,
   "id": "a419aabd-2959-40f2-967f-0404d33c2578",
   "metadata": {},
   "outputs": [],
   "source": [
    "def map_top_matching_trajectories_r(g, route, top=0.05):\n",
    "    html_map = folium.Map(prefer_canvas=True, tiles=\"cartodbpositron\", max_zoom=20, control_scale=True)\n",
    "    \n",
    "    empty_edges = []\n",
    "    bb_list = []\n",
    "    \n",
    "    trajectories = get_top_match_trajectories_r(g, route, top=0.05)\n",
    "    for traj_id in trajectories:\n",
    "        line = load_trajectory_points(int(traj_id))\n",
    "        if len(line) > 0:\n",
    "            bb_list.extend(line)\n",
    "            PolyLine(line, weight=3, color=\"red\", opacity=0.5).add_to(html_map)\n",
    "\n",
    "    line = []\n",
    "    for n in route:\n",
    "        loc = g.nodes[n]\n",
    "        p = (loc['y'], loc['x'])\n",
    "        line.append(p)\n",
    "        bb_list.append(p)\n",
    "        \n",
    "    PolyLine(line, weight=5, opacity=0.5).add_to(html_map)\n",
    "\n",
    "    return fit_bounding_box(html_map, bb_list)"
   ]
  },
  {
   "cell_type": "code",
   "execution_count": null,
   "id": "02867898-13a5-4135-9b4a-2e22fc0037bc",
   "metadata": {},
   "outputs": [],
   "source": [
    "map_top_matching_trajectories_r(g, route)"
   ]
  },
  {
   "cell_type": "code",
   "execution_count": null,
   "id": "807587d0-c576-47ac-81cd-29e4c8c1ac70",
   "metadata": {},
   "outputs": [],
   "source": []
  },
  {
   "cell_type": "markdown",
   "id": "6f38583f-ddd9-4170-a5c1-1d7c8d351e7b",
   "metadata": {},
   "source": [
    "## 06.03 Querying Using a Trajectory\n",
    "\n",
    "In this section we will perform the same query but using a known trajectory instead"
   ]
  },
  {
   "cell_type": "code",
   "execution_count": null,
   "id": "3806d447-fbd9-4543-8c15-2b2435a82189",
   "metadata": {},
   "outputs": [],
   "source": [
    "def load_matching_links(traj_id, angle_delta=2.5):\n",
    "    db = EVedDb()\n",
    "    \n",
    "    sql = \"\"\"\n",
    "    select     q.link_id\n",
    "    ,          q.quadkey\n",
    "    ,          l.traj_id\n",
    "    from       link_qk q\n",
    "    inner join link l on l.link_id = q.link_id\n",
    "    inner join (\n",
    "\n",
    "        select     q.quadkey\n",
    "        ,          l.bearing\n",
    "        from       link_qk q\n",
    "        inner join link l on l.link_id = q.link_id\n",
    "        where      l.traj_id = ?\n",
    "    ) x on x.quadkey = q.quadkey\n",
    "    where l.bearing > 0 and x.bearing > 0 and cos(radians(x.bearing - l.bearing)) >= cos(radians(?));\n",
    "    \"\"\"\n",
    "    traj_df = db.query_df(sql, [traj_id, angle_delta])\n",
    "    return traj_df"
   ]
  },
  {
   "cell_type": "code",
   "execution_count": null,
   "id": "37be4626-bc4c-42fb-b23c-2cd72f1cdfa6",
   "metadata": {},
   "outputs": [],
   "source": []
  },
  {
   "cell_type": "code",
   "execution_count": null,
   "id": "a3d71226-ac53-43b0-9a3c-d4dc1136f310",
   "metadata": {},
   "outputs": [],
   "source": [
    "def get_top_match_trajectories_t(traj_id, top=0.05):\n",
    "    df = load_matching_links(traj_id)\n",
    "    trajectories = np.unique(df[\"traj_id\"].values)\n",
    "    query_set = set(df[df[\"traj_id\"] == traj_id][\"quadkey\"].values)\n",
    "    \n",
    "    traj_df = pd.DataFrame(data=trajectories, columns=[\"traj_id\"])\n",
    "    traj_df[\"similarity\"] = [jaccard_similarity(query_set, set(df[df[\"traj_id\"] == t][\"quadkey\"].values)) \\\n",
    "                             for t in trajectories]\n",
    "    traj_df[\"percent_rank\"] = traj_df[\"similarity\"].rank(pct=True)\n",
    "    \n",
    "    filtered_df = traj_df[traj_df[\"percent_rank\"] > (1.0 - top)]\n",
    "    trajectories = filtered_df[\"traj_id\"].values\n",
    "    return trajectories    "
   ]
  },
  {
   "cell_type": "code",
   "execution_count": null,
   "id": "13576624-bf65-47c9-9aa9-b3610866cd65",
   "metadata": {},
   "outputs": [],
   "source": []
  },
  {
   "cell_type": "code",
   "execution_count": null,
   "id": "05580424-3048-4f8b-b64c-dd4d46b2071b",
   "metadata": {},
   "outputs": [],
   "source": [
    "def get_matching_links_t(traj_id):\n",
    "    df = load_matching_links(traj_id)\n",
    "    links = np.unique(df[\"link_id\"].values)\n",
    "    return links    "
   ]
  },
  {
   "cell_type": "code",
   "execution_count": null,
   "id": "1c46fe9b-d94d-4ef7-9f2b-743cb9082be7",
   "metadata": {},
   "outputs": [],
   "source": []
  },
  {
   "cell_type": "code",
   "execution_count": null,
   "id": "e0c66fbc-ede0-460f-aaee-b90ac8287c81",
   "metadata": {},
   "outputs": [],
   "source": [
    "def map_top_matching_trajectories_t(traj_id, top=0.05):\n",
    "    html_map = folium.Map(prefer_canvas=True, tiles=\"cartodbpositron\", max_zoom=20, control_scale=True)\n",
    "    \n",
    "    bb_list = []\n",
    "    \n",
    "    trajectories = get_top_match_trajectories_t(traj_id, top)\n",
    "    for trajectory in trajectories:\n",
    "        if trajectory != traj_id:\n",
    "            line = load_trajectory_points(int(trajectory))\n",
    "            if len(line) > 0:\n",
    "                bb_list.extend(line)\n",
    "                PolyLine(line, weight=3, color=\"red\", opacity=0.5, popup=str(trajectory)).add_to(html_map)\n",
    "\n",
    "    line = load_trajectory_points(int(traj_id))\n",
    "    PolyLine(line, weight=5, opacity=0.5).add_to(html_map)\n",
    "\n",
    "    return fit_bounding_box(html_map, bb_list)"
   ]
  },
  {
   "cell_type": "code",
   "execution_count": null,
   "id": "bfe2a4fe-f6b4-4742-bc73-93786e271bd0",
   "metadata": {
    "tags": []
   },
   "outputs": [],
   "source": [
    "map_top_matching_trajectories_t(traj_id=4, top=0.01)"
   ]
  },
  {
   "cell_type": "code",
   "execution_count": null,
   "id": "8ae30285-bfb1-46af-a8a4-c1fad3611735",
   "metadata": {},
   "outputs": [],
   "source": []
  },
  {
   "cell_type": "code",
   "execution_count": null,
   "id": "eaca3bdb-71a9-4c9f-ac86-1eb9907a2165",
   "metadata": {},
   "outputs": [],
   "source": [
    "def map_matching_links_t(traj_id):\n",
    "    html_map = folium.Map(prefer_canvas=True, tiles=\"cartodbpositron\", max_zoom=20, control_scale=True)\n",
    "    \n",
    "    bb_list = []\n",
    "\n",
    "    line = load_trajectory_points(int(traj_id))\n",
    "    PolyLine(line, weight=12, opacity=0.5).add_to(html_map)\n",
    "    \n",
    "    bb_list.extend(line)\n",
    "    \n",
    "    links = get_matching_links_t(traj_id)\n",
    "    print(len(links))\n",
    "    for link in links:\n",
    "        line = load_link_points(int(link))\n",
    "        if len(line) > 0:\n",
    "            bb_list.extend(line)\n",
    "            PolyLine(line, weight=3, color=\"red\", opacity=0.5, popup=str(link)).add_to(html_map)\n",
    "\n",
    "    return fit_bounding_box(html_map, bb_list)"
   ]
  },
  {
   "cell_type": "code",
   "execution_count": null,
   "id": "764e8e45-8d7b-4eac-a8f1-b373648ffcf1",
   "metadata": {},
   "outputs": [],
   "source": [
    "map_matching_links_t(traj_id=4)"
   ]
  },
  {
   "cell_type": "code",
   "execution_count": null,
   "id": "5f2c3f1c-c755-412e-97ce-5c7f387bd206",
   "metadata": {},
   "outputs": [],
   "source": []
  }
 ],
 "metadata": {
  "kernelspec": {
   "display_name": "Python 3 (ipykernel)",
   "language": "python",
   "name": "python3"
  },
  "language_info": {
   "codemirror_mode": {
    "name": "ipython",
    "version": 3
   },
   "file_extension": ".py",
   "mimetype": "text/x-python",
   "name": "python",
   "nbconvert_exporter": "python",
   "pygments_lexer": "ipython3",
   "version": "3.10.4"
  }
 },
 "nbformat": 4,
 "nbformat_minor": 5
}
