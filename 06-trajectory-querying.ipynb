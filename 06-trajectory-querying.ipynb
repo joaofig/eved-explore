{
 "cells": [
  {
   "cell_type": "markdown",
   "id": "545b921b-81e0-4cd7-ad4d-d0576dc79707",
   "metadata": {},
   "source": [
    "# 06-Trajectory Querying\n",
    "\n",
    "This notebooks exemplifies the querying of quadkey-indexed trajectories using the Extended Vehicle Energy Dataset.\n",
    "\n",
    "**Requirements**: Run the `calculate-trajectories.py` script before running this notebook."
   ]
  },
  {
   "cell_type": "code",
   "execution_count": null,
   "id": "6b52d993-e9c5-48c7-984c-2f5c392e2067",
   "metadata": {},
   "outputs": [],
   "source": [
    "import folium\n",
    "import numpy as np\n",
    "import pandas as pd\n",
    "import osmnx as ox\n",
    "import geopandas as gpd\n",
    "import networkx as nx\n",
    "import math\n",
    "\n",
    "from itertools import pairwise\n",
    "from db.api import EVedDb\n",
    "from folium.vector_layers import PolyLine, CircleMarker\n",
    "from pyquadkey2 import quadkey\n",
    "from numba import jit\n",
    "from db.api import EVedDb\n",
    "from tqdm.notebook import tqdm\n",
    "from raster.drawing import smooth_line\n",
    "from geo.qk import tile_to_str\n",
    "\n",
    "from geo.trajectory import GraphRoute, GraphTrajectory, load_signal_range, load_trajectory_points, load_link_points, load_matching_links"
   ]
  },
  {
   "cell_type": "markdown",
   "id": "3a3ad129-cb33-46e5-8629-1f40b6f178f0",
   "metadata": {},
   "source": [
    "## 06.01-Preparation\n",
    "\n",
    "We start by loading the road network from Ann Arbor, Michigan, using the `GraphRoute` class."
   ]
  },
  {
   "cell_type": "code",
   "execution_count": null,
   "id": "9c375882-ea62-4e56-b14e-7aaf6247b794",
   "metadata": {},
   "outputs": [],
   "source": [
    "gr = GraphRoute('Ann Arbor, Michigan')"
   ]
  },
  {
   "cell_type": "markdown",
   "id": "afd87e48-3efe-482f-a20a-2d05da56444c",
   "metadata": {},
   "source": [
    "Now, we create an arbitrary route useing two addresses. The `generate_route` function geocodes both addresses and returns the graph path that best represents the route."
   ]
  },
  {
   "cell_type": "code",
   "execution_count": null,
   "id": "a44edcf7-8d89-4e9f-a9e0-51eb3a543cc6",
   "metadata": {},
   "outputs": [],
   "source": [
    "route = gr.generate_route(addr_ini=\"122 N Thayer St, Ann Arbor, MI 48104, USA\",\n",
    "                          addr_end=\"1431 Ardmoor Ave, Ann Arbor, MI 48103, USA\")"
   ]
  },
  {
   "cell_type": "markdown",
   "id": "864dd05d-ed34-4bd6-82bf-14d2de09a32b",
   "metadata": {},
   "source": [
    "The `fit_bounding_box` uses a list of locations to fit a bounding box for the displayed data and set the appropriate map center and zoom."
   ]
  },
  {
   "cell_type": "code",
   "execution_count": null,
   "id": "e77acfc4-b71a-40ac-a52c-ce53c088d7e8",
   "metadata": {},
   "outputs": [],
   "source": [
    "def fit_bounding_box(html_map, bb_list):\n",
    "    if isinstance(bb_list, list):\n",
    "        ll = np.array(bb_list)\n",
    "    else:\n",
    "        ll = bb_list\n",
    "        \n",
    "    min_lat, max_lat = ll[:, 0].min(), ll[:, 0].max()\n",
    "    min_lon, max_lon = ll[:, 1].min(), ll[:, 1].max()\n",
    "    html_map.fit_bounds([[min_lat, min_lon], [max_lat, max_lon]])\n",
    "    return html_map"
   ]
  },
  {
   "cell_type": "code",
   "execution_count": null,
   "id": "911b88f0-0857-447d-aaaf-3749d7fca3f4",
   "metadata": {},
   "outputs": [],
   "source": [
    "def map_graph_route(graph_route):\n",
    "    html_map = folium.Map(prefer_canvas=True, tiles=\"cartodbpositron\", max_zoom=20, control_scale=True)\n",
    "    \n",
    "    empty_edges = []\n",
    "    bb_list = []\n",
    "    route_nodes = graph_route.get_route_nodes()\n",
    "    \n",
    "    for loc in route_nodes:\n",
    "        bb_list.append((loc['y'], loc['x']))\n",
    "    \n",
    "    for l0, l1 in pairwise(route_nodes):\n",
    "        line = [(l0['y'], l0['x']), (l1['y'], l1['x'])]\n",
    "        \n",
    "        PolyLine(line, weight=5, opacity=0.5).add_to(html_map)\n",
    "        \n",
    "    return fit_bounding_box(html_map, bb_list)"
   ]
  },
  {
   "cell_type": "code",
   "execution_count": null,
   "id": "6f3303ee-697b-4a15-9f1b-c883ff825b47",
   "metadata": {
    "tags": []
   },
   "outputs": [],
   "source": [
    "map_graph_route(gr)"
   ]
  },
  {
   "cell_type": "markdown",
   "id": "cc0f39d0-d648-414a-a7a6-57f38e79dda5",
   "metadata": {},
   "source": [
    "## 06.02-Querying Using an Arbitrary Trajectory\n",
    "\n",
    "In this section we will use the above trajectory to query the database for overlapping _trajectories_ and _trajectory segments_. Wer start by declaring some supporting functions and explain the process along the way."
   ]
  },
  {
   "cell_type": "markdown",
   "id": "0ac20e98-e349-4ef8-95f8-c00c0e3c5ab7",
   "metadata": {},
   "source": [
    "Let's try it out with the above route, and convert it to the corresponding level 20 quadkeys."
   ]
  },
  {
   "cell_type": "code",
   "execution_count": null,
   "id": "68665914-2c2c-4ba3-b58e-e608ade56bfb",
   "metadata": {},
   "outputs": [],
   "source": [
    "route_df = pd.DataFrame(data=gr.get_route_quadkeys(), columns=[\"quadkey\", \"bearing\"])\n",
    "route_df"
   ]
  },
  {
   "cell_type": "markdown",
   "id": "9ebd7770-eb34-442d-a7cb-529671fd8bf2",
   "metadata": {},
   "source": [
    "As you can see from the result above, we can now match the quadkeys to the existing _links_ while enforcing a similar bearing. This is, in essence, how we query. Let's see the result of querying the links that overlap the query trajectory. The function `get_overlapping_links` of the `GraphRoute` class returns a list of tuples containing the `link_id`, `traj_id`, `signal_ini` and `signal_end` values. These last two are identifiers of the `signal` table and define the range of signals in the link."
   ]
  },
  {
   "cell_type": "code",
   "execution_count": null,
   "id": "305ef1ea-7e3a-4c44-b644-81baeeb4174b",
   "metadata": {},
   "outputs": [],
   "source": [
    "gr.get_overlapping_links()"
   ]
  },
  {
   "cell_type": "markdown",
   "id": "3dc9b1b1-6d49-4c00-9415-e56610026d8e",
   "metadata": {},
   "source": [
    "To get the matching trajectories, we only need to retrieve the unique values of `traj_id` from the list above. This is already done for you in the `get_matching_trajectories` function."
   ]
  },
  {
   "cell_type": "code",
   "execution_count": null,
   "id": "2807c4fd-c77b-49e9-aa52-935e76d12ed1",
   "metadata": {},
   "outputs": [],
   "source": [
    "gr.get_matching_trajectories()[0]"
   ]
  },
  {
   "cell_type": "markdown",
   "id": "623b6a4d-f570-4f3b-b63d-dc2eff4de874",
   "metadata": {},
   "source": [
    "Note that for convenience reasons the above function returns a tuple containing the unique trajectory identifiers and the same result as the previous function. We can now retrieve all trajectory data from the database, but most of them will only have a small overlap with the query trajectory. To get the trajectories that overlap the most with the query trajectory, we use the `get_top_match_trajectories` function. By default, it matches the top 5% of trajectories and returns them."
   ]
  },
  {
   "cell_type": "code",
   "execution_count": null,
   "id": "ffed72f9-952f-4796-a667-de4ccf4bcb90",
   "metadata": {},
   "outputs": [],
   "source": [
    "gr.get_top_match_trajectories()"
   ]
  },
  {
   "cell_type": "markdown",
   "id": "451dec7f-84e0-4224-9604-49bead16ba42",
   "metadata": {},
   "source": [
    "As you can see, there is a substantial reduction of trajectories when we filter out the lower-matching 95% of trajectories."
   ]
  },
  {
   "cell_type": "code",
   "execution_count": null,
   "id": "410b9c17-269c-4490-b640-1abba2bd6a8d",
   "metadata": {},
   "outputs": [],
   "source": [
    "gr.get_matching_trajectories()[0].shape[0], gr.get_top_match_trajectories().shape[0]"
   ]
  },
  {
   "cell_type": "code",
   "execution_count": null,
   "id": "91ba1fca-8d03-4679-9a0e-e11810b886ff",
   "metadata": {},
   "outputs": [],
   "source": []
  },
  {
   "cell_type": "code",
   "execution_count": null,
   "id": "7bcb3149-3c7a-488c-a06b-c79d8744805e",
   "metadata": {},
   "outputs": [],
   "source": []
  },
  {
   "cell_type": "code",
   "execution_count": null,
   "id": "35e3ae16-ba5b-4219-b4e8-f07ef30c2e05",
   "metadata": {},
   "outputs": [],
   "source": [
    "def map_matching_links(graph_route):\n",
    "    html_map = folium.Map(prefer_canvas=True, tiles=\"cartodbpositron\", max_zoom=20, control_scale=True)\n",
    "    \n",
    "    empty_edges = []\n",
    "    bb_list = []\n",
    "            \n",
    "    line = [(loc['y'], loc['x']) for loc in graph_route.get_route_nodes()]\n",
    "    bb_list.extend(line)\n",
    "        \n",
    "    PolyLine(line, weight=12, opacity=0.5).add_to(html_map)\n",
    "    \n",
    "    ranges = graph_route.get_overlapping_signal_ranges()\n",
    "    for r in tqdm(ranges):\n",
    "        line = load_signal_range(r)\n",
    "        if len(line):\n",
    "            bb_list.extend(line)\n",
    "            PolyLine(line, weight=3, color=\"red\", opacity=0.5, popup=r).add_to(html_map)\n",
    "\n",
    "    return fit_bounding_box(html_map, bb_list)"
   ]
  },
  {
   "cell_type": "code",
   "execution_count": null,
   "id": "0ea40fdc-6435-4849-8d17-8452866d9a2f",
   "metadata": {},
   "outputs": [],
   "source": [
    "map_matching_links(gr)"
   ]
  },
  {
   "cell_type": "code",
   "execution_count": null,
   "id": "22f64124-5c4b-4cf2-bf72-05a69532bd6f",
   "metadata": {},
   "outputs": [],
   "source": [
    "# map_matching_links(g, route)"
   ]
  },
  {
   "cell_type": "code",
   "execution_count": null,
   "id": "32b52b76-e59f-458f-90a9-963e22daf357",
   "metadata": {},
   "outputs": [],
   "source": []
  },
  {
   "cell_type": "code",
   "execution_count": null,
   "id": "7c1839d2-14dd-44b9-8a86-8185a0650c35",
   "metadata": {},
   "outputs": [],
   "source": [
    "match_df = pd.DataFrame(data=gr.calculate_trajectory_matches(), columns=['traj_id', 'similarity'])"
   ]
  },
  {
   "cell_type": "code",
   "execution_count": null,
   "id": "72b734d1-b2fa-4cb2-bead-9737c3e93b2b",
   "metadata": {},
   "outputs": [],
   "source": [
    "match_df[\"percent_rank\"] = match_df[\"similarity\"].rank(pct=True)"
   ]
  },
  {
   "cell_type": "code",
   "execution_count": null,
   "id": "2e07d266-911a-4041-99ba-0605360a4c57",
   "metadata": {},
   "outputs": [],
   "source": [
    "match_df.sort_values(\"percent_rank\", ascending=False)"
   ]
  },
  {
   "cell_type": "code",
   "execution_count": null,
   "id": "3e1f38fb-a427-441c-a69f-6bf7386cf139",
   "metadata": {},
   "outputs": [],
   "source": [
    "match_df[match_df[\"percent_rank\"] > 0.95].sort_values(\"percent_rank\", ascending=False)"
   ]
  },
  {
   "cell_type": "code",
   "execution_count": null,
   "id": "f5277036-78c5-4f6f-97ab-8b1d4e169a26",
   "metadata": {},
   "outputs": [],
   "source": []
  },
  {
   "cell_type": "code",
   "execution_count": null,
   "id": "1d0a3bc5-972a-4427-8f52-152e7cbeee51",
   "metadata": {},
   "outputs": [],
   "source": []
  },
  {
   "cell_type": "code",
   "execution_count": null,
   "id": "a419aabd-2959-40f2-967f-0404d33c2578",
   "metadata": {},
   "outputs": [],
   "source": [
    "def map_top_matching_trajectories_r(graph_route, top=0.05):\n",
    "    html_map = folium.Map(prefer_canvas=True, tiles=\"cartodbpositron\", max_zoom=20, control_scale=True)\n",
    "    \n",
    "    empty_edges = []\n",
    "    bb_list = []\n",
    "    \n",
    "    line = []\n",
    "    for loc in graph_route.get_route_nodes():\n",
    "        p = (loc['y'], loc['x'])\n",
    "        line.append(p)\n",
    "        bb_list.append(p)\n",
    "        \n",
    "    PolyLine(line, weight=12, opacity=0.5).add_to(html_map)\n",
    "    \n",
    "    trajectories = graph_route.get_top_match_trajectories(top=top)\n",
    "    for traj_id in trajectories:\n",
    "        line = load_trajectory_points(int(traj_id))\n",
    "        if len(line) > 0:\n",
    "            bb_list.extend(line)\n",
    "            PolyLine(line, weight=3, color=\"red\", opacity=0.5).add_to(html_map)\n",
    "\n",
    "    return fit_bounding_box(html_map, bb_list)"
   ]
  },
  {
   "cell_type": "code",
   "execution_count": null,
   "id": "02867898-13a5-4135-9b4a-2e22fc0037bc",
   "metadata": {},
   "outputs": [],
   "source": [
    "map_top_matching_trajectories_r(gr)"
   ]
  },
  {
   "cell_type": "code",
   "execution_count": null,
   "id": "807587d0-c576-47ac-81cd-29e4c8c1ac70",
   "metadata": {},
   "outputs": [],
   "source": []
  },
  {
   "cell_type": "markdown",
   "id": "6f38583f-ddd9-4170-a5c1-1d7c8d351e7b",
   "metadata": {},
   "source": [
    "## 06.03-Querying Using an Existing Trajectory\n",
    "\n",
    "In this section we will perform the same query but using a known trajectory instead"
   ]
  },
  {
   "cell_type": "code",
   "execution_count": null,
   "id": "e0c66fbc-ede0-460f-aaee-b90ac8287c81",
   "metadata": {},
   "outputs": [],
   "source": [
    "def map_top_matching_trajectories_t(traj_id, top=0.05):\n",
    "    html_map = folium.Map(prefer_canvas=True, tiles=\"cartodbpositron\", max_zoom=20, control_scale=True)\n",
    "    \n",
    "    bb_list = []\n",
    "    gt = GraphTrajectory(int(traj_id))\n",
    "\n",
    "    line = load_trajectory_points(int(traj_id))\n",
    "    PolyLine(line, weight=12, opacity=0.5).add_to(html_map)\n",
    "    \n",
    "    trajectories = gt.get_top_matching_trajectories(top)\n",
    "    for trajectory in trajectories:\n",
    "        if trajectory != traj_id:\n",
    "            line = load_trajectory_points(int(trajectory))\n",
    "            if len(line) > 0:\n",
    "                bb_list.extend(line)\n",
    "                PolyLine(line, weight=3, color=\"red\", opacity=0.5, popup=str(trajectory)).add_to(html_map)\n",
    "                \n",
    "    return fit_bounding_box(html_map, bb_list)"
   ]
  },
  {
   "cell_type": "code",
   "execution_count": null,
   "id": "bfe2a4fe-f6b4-4742-bc73-93786e271bd0",
   "metadata": {
    "tags": []
   },
   "outputs": [],
   "source": [
    "map_top_matching_trajectories_t(traj_id=4, top=0.01)"
   ]
  },
  {
   "cell_type": "code",
   "execution_count": null,
   "id": "2ed9ece3-c467-49af-b5b1-f4c27376ca0d",
   "metadata": {},
   "outputs": [],
   "source": [
    "gt = GraphTrajectory(4)"
   ]
  },
  {
   "cell_type": "code",
   "execution_count": null,
   "id": "8ae30285-bfb1-46af-a8a4-c1fad3611735",
   "metadata": {},
   "outputs": [],
   "source": [
    "gt.get_top_matching_trajectories()"
   ]
  },
  {
   "cell_type": "code",
   "execution_count": null,
   "id": "eaca3bdb-71a9-4c9f-ac86-1eb9907a2165",
   "metadata": {},
   "outputs": [],
   "source": [
    "def map_matching_links_t(traj_id):\n",
    "    html_map = folium.Map(prefer_canvas=True, tiles=\"cartodbpositron\", max_zoom=20, control_scale=True)\n",
    "    \n",
    "    bb_list = []\n",
    "    gt = GraphTrajectory(int(traj_id))\n",
    "\n",
    "    line = load_trajectory_points(int(traj_id))\n",
    "    PolyLine(line, weight=12, opacity=0.5).add_to(html_map)\n",
    "    \n",
    "    bb_list.extend(line)\n",
    "    \n",
    "    links = gt.get_matching_links()\n",
    "    print(len(links))\n",
    "    for link in links:\n",
    "        line = load_link_points(int(link))\n",
    "        if len(line) > 0:\n",
    "            bb_list.extend(line)\n",
    "            PolyLine(line, weight=3, color=\"red\", opacity=0.5, popup=str(link)).add_to(html_map)\n",
    "\n",
    "    return fit_bounding_box(html_map, bb_list)"
   ]
  },
  {
   "cell_type": "code",
   "execution_count": null,
   "id": "764e8e45-8d7b-4eac-a8f1-b373648ffcf1",
   "metadata": {},
   "outputs": [],
   "source": [
    "map_matching_links_t(traj_id=4)"
   ]
  },
  {
   "cell_type": "code",
   "execution_count": null,
   "id": "5f2c3f1c-c755-412e-97ce-5c7f387bd206",
   "metadata": {},
   "outputs": [],
   "source": []
  },
  {
   "cell_type": "code",
   "execution_count": null,
   "id": "53519b7e-b339-401f-85e9-55287335e534",
   "metadata": {},
   "outputs": [],
   "source": [
    "gt = GraphTrajectory(4)"
   ]
  },
  {
   "cell_type": "code",
   "execution_count": null,
   "id": "880c6cbe-f7ca-43f1-9889-76c25b3f2f47",
   "metadata": {},
   "outputs": [],
   "source": [
    "gt.get_top_matching_trajectories()"
   ]
  },
  {
   "cell_type": "code",
   "execution_count": null,
   "id": "41835853-f124-4100-8957-d92eeb43e5e5",
   "metadata": {},
   "outputs": [],
   "source": [
    "df = load_matching_links(4)"
   ]
  },
  {
   "cell_type": "code",
   "execution_count": null,
   "id": "c64fbf39-8903-4b6b-af01-329c75853584",
   "metadata": {},
   "outputs": [],
   "source": [
    "df"
   ]
  },
  {
   "cell_type": "code",
   "execution_count": null,
   "id": "b24b1632-b48c-43b5-bc8d-8bcec5524cad",
   "metadata": {},
   "outputs": [],
   "source": [
    "df[df[\"traj_id\"] != 4]"
   ]
  },
  {
   "cell_type": "code",
   "execution_count": null,
   "id": "ad1deda0-d298-40a7-a5f0-173af3127866",
   "metadata": {},
   "outputs": [],
   "source": []
  }
 ],
 "metadata": {
  "kernelspec": {
   "display_name": "Python 3 (ipykernel)",
   "language": "python",
   "name": "python3"
  },
  "language_info": {
   "codemirror_mode": {
    "name": "ipython",
    "version": 3
   },
   "file_extension": ".py",
   "mimetype": "text/x-python",
   "name": "python",
   "nbconvert_exporter": "python",
   "pygments_lexer": "ipython3",
   "version": "3.10.4"
  }
 },
 "nbformat": 4,
 "nbformat_minor": 5
}
