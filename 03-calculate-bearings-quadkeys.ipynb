{
 "cells": [
  {
   "cell_type": "markdown",
   "id": "5cda3bac-c1e0-4d1e-9b82-545b074e89bd",
   "metadata": {},
   "source": [
    "# 03-Calculate Bearings and Quadkeys\n",
    "\n",
    "This notebook estimates the bearings (azimuth) for all locations in the vehicle trips. The bearing is the direction of movement measured in decimal degrees, with zero facing north and angles increasing in the clockwise direction. "
   ]
  },
  {
   "cell_type": "code",
   "execution_count": null,
   "id": "876d40df-8ac8-4350-9155-acceada97c09",
   "metadata": {},
   "outputs": [],
   "source": [
    "%run calculate-bearings.py"
   ]
  },
  {
   "cell_type": "markdown",
   "id": "de99fe33-9466-4513-b540-30f069ecd395",
   "metadata": {},
   "source": [
    "Create the index on quadkeys and time partitions."
   ]
  },
  {
   "cell_type": "code",
   "execution_count": null,
   "id": "b510e49f-1a16-4994-97ca-042b5f1a060d",
   "metadata": {},
   "outputs": [],
   "source": [
    "from db.api import EVedDb\n",
    "\n",
    "db = EVedDb()\n",
    "\n",
    "sql = \"\"\"\n",
    "CREATE INDEX ix_signal_quadkey_wd_ts ON signal (\n",
    "    quadkey ASC,\n",
    "    week_day ASC,\n",
    "    day_slot ASC\n",
    ");\n",
    "\"\"\"\n",
    "\n",
    "db.execute_sql(sql)"
   ]
  },
  {
   "cell_type": "code",
   "execution_count": null,
   "id": "db44d65b-80f5-434b-a81a-01f113ad4592",
   "metadata": {},
   "outputs": [],
   "source": []
  }
 ],
 "metadata": {
  "kernelspec": {
   "display_name": "Python 3 (ipykernel)",
   "language": "python",
   "name": "python3"
  },
  "language_info": {
   "codemirror_mode": {
    "name": "ipython",
    "version": 3
   },
   "file_extension": ".py",
   "mimetype": "text/x-python",
   "name": "python",
   "nbconvert_exporter": "python",
   "pygments_lexer": "ipython3",
   "version": "3.10.4"
  }
 },
 "nbformat": 4,
 "nbformat_minor": 5
}
