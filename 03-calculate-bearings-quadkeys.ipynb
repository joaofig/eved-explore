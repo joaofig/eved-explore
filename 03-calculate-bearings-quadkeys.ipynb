{
 "cells": [
  {
   "cell_type": "markdown",
   "id": "5cda3bac-c1e0-4d1e-9b82-545b074e89bd",
   "metadata": {},
   "source": [
    "# 03-Calculate Bearings and Quadkeys\n",
    "\n",
    "This notebook estimates the bearings (azimuth) for all locations in the vehicle trips. The bearing is the direction of movement measured in decimal degrees, with zero facing north and angles increasing in the clockwise direction. "
   ]
  },
  {
   "cell_type": "code",
   "execution_count": 1,
   "id": "876d40df-8ac8-4350-9155-acceada97c09",
   "metadata": {},
   "outputs": [
    {
     "name": "stderr",
     "output_type": "stream",
     "text": [
      "100%|██████████████████████████████████████████████████████████████████████████████| 32.5k/32.5k [51:25<00:00, 10.5it/s]\n",
      "32549it [00:00, 582845.14it/s]\n"
     ]
    }
   ],
   "source": [
    "%run calculate-bearings.py"
   ]
  }
 ],
 "metadata": {
  "kernelspec": {
   "display_name": "Python 3 (ipykernel)",
   "language": "python",
   "name": "python3"
  },
  "language_info": {
   "codemirror_mode": {
    "name": "ipython",
    "version": 3
   },
   "file_extension": ".py",
   "mimetype": "text/x-python",
   "name": "python",
   "nbconvert_exporter": "python",
   "pygments_lexer": "ipython3",
   "version": "3.10.4"
  }
 },
 "nbformat": 4,
 "nbformat_minor": 5
}
