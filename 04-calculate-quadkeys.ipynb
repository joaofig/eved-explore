{
 "cells": [
  {
   "cell_type": "markdown",
   "id": "0a6a5014-54cd-4255-9acd-39a76c10fb2d",
   "metadata": {},
   "source": [
    "# 04-Calculate Quadkeys\n",
    "\n",
    "This notebook calculates the level 20 quadkeys based on the map-matched locations.\n",
    "\n",
    "**Requirements:**\n",
    "\n",
    "- Please run the `02-import-data.ipynb` notebook first and its dependencies.\n",
    "- Recommended install: [ipywidgets](https://ipywidgets.readthedocs.io/en/stable/user_install.html). Enable using `jupyter nbextension enable --py widgetsnbextension --sys-prefix` for Jupyter Notebook and `jupyter labextension install @jupyter-widgets/jupyterlab-manager` for Jupyter Lab."
   ]
  },
  {
   "cell_type": "code",
   "execution_count": null,
   "id": "e7669e86-9364-4564-b223-0dbd419ddef1",
   "metadata": {},
   "outputs": [],
   "source": [
    "from pyquadkey2 import quadkey\n",
    "from db.api import EVedDb \n",
    "from tqdm.notebook import tqdm"
   ]
  },
  {
   "cell_type": "markdown",
   "id": "2e4042d2-8d8e-4bf4-ae60-9d5e199e283d",
   "metadata": {},
   "source": [
    "Create the database API object."
   ]
  },
  {
   "cell_type": "code",
   "execution_count": null,
   "id": "20e4b79b-8aca-4aec-871f-10785e6ff6c9",
   "metadata": {},
   "outputs": [],
   "source": [
    "db = EVedDb()"
   ]
  },
  {
   "cell_type": "markdown",
   "id": "fb2105f8-79bf-4bee-a570-506b35778303",
   "metadata": {},
   "source": [
    "Get all the vehicle trips into a list of tuples `(vehicle_id, trip_id)`."
   ]
  },
  {
   "cell_type": "code",
   "execution_count": null,
   "id": "a930afc8-365d-4ecf-8521-94ad33ff9467",
   "metadata": {},
   "outputs": [],
   "source": [
    "trips = db.query(\"select distinct vehicle_id, trip_id from signal;\")"
   ]
  },
  {
   "cell_type": "markdown",
   "id": "389f9501-02ca-416b-bc19-22bcd4532d07",
   "metadata": {},
   "source": [
    "The function below extracts the unique locations from a vehicle trip."
   ]
  },
  {
   "cell_type": "code",
   "execution_count": null,
   "id": "2fe5b6d0-4829-43d0-b7de-45ce74cb3994",
   "metadata": {},
   "outputs": [],
   "source": [
    "def get_trip_locations(vehicle_id, trip_id):\n",
    "    sql = \"\"\"\n",
    "    select   match_latitude\n",
    "    ,        match_longitude\n",
    "    from     signal \n",
    "    where    vehicle_id = ? and trip_id = ?\n",
    "    group by match_latitude, match_longitude\n",
    "    order by time_stamp\n",
    "    \"\"\"\n",
    "\n",
    "    locations = db.query(sql, (vehicle_id, trip_id))\n",
    "    return locations"
   ]
  },
  {
   "cell_type": "markdown",
   "id": "e4033667-c099-4702-895b-a5c4fd6cfe91",
   "metadata": {},
   "source": [
    "Use _zoom_ level 20 to discretize the quadkeys."
   ]
  },
  {
   "cell_type": "code",
   "execution_count": null,
   "id": "0f1b08fc-49a4-4c15-8def-b0d1691f97b6",
   "metadata": {},
   "outputs": [],
   "source": [
    "level = 20"
   ]
  },
  {
   "cell_type": "markdown",
   "id": "bfa9a5a8-e1f9-4dd3-9948-0c83e17e4fc6",
   "metadata": {},
   "source": [
    "The query below updates quadkeys per vehicle and trip."
   ]
  },
  {
   "cell_type": "code",
   "execution_count": null,
   "id": "96b49aa3-e343-485a-86d7-d7833ca6157c",
   "metadata": {},
   "outputs": [],
   "source": [
    "sql = \"\"\"\n",
    "update signal set quadkey = ?\n",
    "where  vehicle_id = ? and trip_id = ? and match_latitude = ? and match_longitude = ?\n",
    "\"\"\""
   ]
  },
  {
   "cell_type": "markdown",
   "id": "3693bf0d-e8f4-4814-b6ba-ff3b5de7770f",
   "metadata": {},
   "source": [
    "Now we can update all quadkeys in the database.\n",
    "\n",
    "**Note:** This code will take some time to run. On my 2019 i7 MacBook it took around 14 minutes."
   ]
  },
  {
   "cell_type": "code",
   "execution_count": null,
   "id": "9554f4b5-e83e-4140-bffd-bd82040d7c0b",
   "metadata": {},
   "outputs": [],
   "source": [
    "for trip in tqdm(trips):\n",
    "    vehicle_id, trip_id = trip\n",
    "    \n",
    "    locations = get_trip_locations(vehicle_id, trip_id)\n",
    "    \n",
    "    updates = [(quadkey.from_geo(p, level).to_quadint() >> (64-2*level), vehicle_id, trip_id, p[0], p[1]) for p in locations]\n",
    "    \n",
    "    db.execute_sql(sql, updates, many=True)"
   ]
  },
  {
   "cell_type": "code",
   "execution_count": null,
   "id": "eabaf737-0c1b-4add-be47-768dbd13fb2a",
   "metadata": {},
   "outputs": [],
   "source": []
  }
 ],
 "metadata": {
  "kernelspec": {
   "display_name": "Python 3 (ipykernel)",
   "language": "python",
   "name": "python3"
  },
  "language_info": {
   "codemirror_mode": {
    "name": "ipython",
    "version": 3
   },
   "file_extension": ".py",
   "mimetype": "text/x-python",
   "name": "python",
   "nbconvert_exporter": "python",
   "pygments_lexer": "ipython3",
   "version": "3.10.4"
  }
 },
 "nbformat": 4,
 "nbformat_minor": 5
}
