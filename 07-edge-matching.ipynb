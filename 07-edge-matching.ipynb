{
 "cells": [
  {
   "cell_type": "code",
   "execution_count": null,
   "id": "752e7d33-37bc-4be0-9f75-63275ba3edc4",
   "metadata": {},
   "outputs": [],
   "source": []
  },
  {
   "cell_type": "code",
   "execution_count": null,
   "id": "15fcee83-463d-421b-bd3c-4132c4810cf1",
   "metadata": {},
   "outputs": [],
   "source": [
    "import numpy as np\n",
    "import osmnx as ox\n",
    "import utm\n",
    "\n",
    "from geo.math import num_haversine, vec_haversine\n",
    "from geo.road import RoadNetwork, download_road_network\n",
    "from geo.trajectory import load_trajectory_points"
   ]
  },
  {
   "cell_type": "code",
   "execution_count": null,
   "id": "d1d3d81a-2e63-4292-b36f-b5681b6cc180",
   "metadata": {},
   "outputs": [],
   "source": []
  },
  {
   "cell_type": "code",
   "execution_count": null,
   "id": "70074b43-12ac-490a-a06c-f49503b9c1dd",
   "metadata": {},
   "outputs": [],
   "source": [
    "road_network = download_road_network(\"Ann Arbor, Michigan, USA\")\n",
    "# road_network = download_road_network(\"Michigan, USA\")"
   ]
  },
  {
   "cell_type": "markdown",
   "id": "544fef30-2997-4ba4-88bb-f4979de7ddfd",
   "metadata": {},
   "source": [
    "## Matching Edges with OSMnx\n",
    "\n",
    "We start by using OSMnx's own functions to find edge matches to locations sampled from the EVED. The first thing we need to do is to project the whole road network to the local UTM projection."
   ]
  },
  {
   "cell_type": "code",
   "execution_count": null,
   "id": "4228abae-7fc0-4f54-acba-c4d530c066e5",
   "metadata": {},
   "outputs": [],
   "source": [
    "network_utm = ox.projection.project_graph(road_network)"
   ]
  },
  {
   "cell_type": "markdown",
   "id": "448cacea-0f46-457d-94d4-b8e3a1b2bf32",
   "metadata": {},
   "source": [
    "The above operation converts latitudes and longitudes to a local UTM projection that works as a Cartesian plane in meters. The advantage of such projection is that you can directly use your knowledge of vectors to work out distances and other planar geometry calculations. The disadvantage is that you always need to perform the conversion before using OSMnx's functions. When converting from (_latitude_, _longitude_) to UTM, we get a converted coordinate pair (_x_, _y_) aptly named (_easting_, _northing_), along with the UTM number and letter codes. We might need these later to convert (_easting_, _northing_) back to (_latitude_, _longitude_)."
   ]
  },
  {
   "cell_type": "code",
   "execution_count": null,
   "id": "cb678ed0-2aef-427f-9ebc-2eb0c6c4b4d5",
   "metadata": {},
   "outputs": [],
   "source": [
    "easting, northing, zone_num, zone_ltr = utm.from_latlon(42.287702, -83.707775)"
   ]
  },
  {
   "cell_type": "markdown",
   "id": "9ac1a93f-4de0-4064-a8c6-b7daf608930e",
   "metadata": {},
   "source": [
    "We can now call OSMnx's `nearest_edges` [function](https://osmnx.readthedocs.io/en/stable/osmnx.html#osmnx.distance.nearest_edges) to determine the closest edges."
   ]
  },
  {
   "cell_type": "code",
   "execution_count": null,
   "id": "0c226806-fffc-4f07-bb5f-6b5995760ab5",
   "metadata": {},
   "outputs": [],
   "source": [
    "edge_id = ox.distance.nearest_edges(network_utm, easting, northing)"
   ]
  },
  {
   "cell_type": "code",
   "execution_count": null,
   "id": "684bbf78-04ab-48b8-960e-29d7dc10765f",
   "metadata": {},
   "outputs": [],
   "source": [
    "edge_id"
   ]
  },
  {
   "cell_type": "markdown",
   "id": "d3367aeb-240b-40e5-8882-0e39936b4dc9",
   "metadata": {},
   "source": [
    "The first two numbers in the tuple identify the edge's nodes, and we can query it from the network using the following:"
   ]
  },
  {
   "cell_type": "code",
   "execution_count": null,
   "id": "5f800e8f-8d47-450e-88ee-e7d221418423",
   "metadata": {},
   "outputs": [],
   "source": [
    "network_utm[edge_id[0]][edge_id[1]][0]"
   ]
  },
  {
   "cell_type": "code",
   "execution_count": null,
   "id": "42d0b090-da7d-43ec-8d35-3fb2f0faf9a4",
   "metadata": {},
   "outputs": [],
   "source": [
    "network_utm[edge_id[1]][edge_id[0]][0]"
   ]
  },
  {
   "cell_type": "code",
   "execution_count": null,
   "id": "b6b105ba-727b-4809-a771-c2e9e12eab8d",
   "metadata": {},
   "outputs": [],
   "source": [
    "trajectory = load_trajectory_points(4, unique=True)\n",
    "raw_lists = map(list, zip(*trajectory))\n",
    "latitudes, longitudes, bearings = map(np.array, raw_lists)"
   ]
  },
  {
   "cell_type": "code",
   "execution_count": null,
   "id": "b618b760-4b68-4b32-ad7b-a1ffa2637ea3",
   "metadata": {},
   "outputs": [],
   "source": []
  },
  {
   "cell_type": "code",
   "execution_count": null,
   "id": "96e1dcc1-8c0e-4814-be4d-ef70fb4860f2",
   "metadata": {},
   "outputs": [],
   "source": []
  },
  {
   "cell_type": "code",
   "execution_count": null,
   "id": "6edf3cd8-a06c-4bf4-aace-3f952dc2b3b8",
   "metadata": {},
   "outputs": [],
   "source": [
    "eastings, northings, zone_num, zone_ltr = utm.from_latlon(latitudes, longitudes)"
   ]
  },
  {
   "cell_type": "code",
   "execution_count": null,
   "id": "a29f99d8-1825-470f-90fc-91772c2232ac",
   "metadata": {},
   "outputs": [],
   "source": [
    "len(eastings), len(northings)"
   ]
  },
  {
   "cell_type": "markdown",
   "id": "7765be94-58de-40f1-a253-1f4d30c50f61",
   "metadata": {},
   "source": [
    "**OSMnx**"
   ]
  },
  {
   "cell_type": "code",
   "execution_count": null,
   "id": "127db10f-f4a8-4646-848a-bbc8fa7e12db",
   "metadata": {},
   "outputs": [],
   "source": [
    "%%timeit\n",
    "ox.distance.nearest_edges(network_utm, eastings, northings)"
   ]
  },
  {
   "cell_type": "markdown",
   "id": "280e55b8-cc99-4b62-8b01-f75b9a7f47a6",
   "metadata": {},
   "source": [
    "**Fitness Ratio**"
   ]
  },
  {
   "cell_type": "code",
   "execution_count": null,
   "id": "62b2fb38-64ba-4d42-939b-1fe6b77388a7",
   "metadata": {},
   "outputs": [],
   "source": [
    "%%timeit\n",
    "rn = RoadNetwork(road_network)\n",
    "cache = dict()\n",
    "for p in trajectory:\n",
    "    if p not in cache:\n",
    "        edge = rn.get_matching_edge(*p)\n",
    "        cache[p] = edge"
   ]
  },
  {
   "cell_type": "markdown",
   "id": "bc517ee6-b6b9-48e0-95ec-2435f3b4e6c2",
   "metadata": {},
   "source": [
    "**Distance**"
   ]
  },
  {
   "cell_type": "code",
   "execution_count": null,
   "id": "e1aa529b-57e9-4be4-b907-38f7e4c1724a",
   "metadata": {},
   "outputs": [],
   "source": [
    "%%timeit\n",
    "rn = RoadNetwork(road_network)\n",
    "cache = dict()\n",
    "for p in trajectory:\n",
    "    if p not in cache:\n",
    "        edge = rn.get_nearest_edge(*p)\n",
    "        cache[p] = edge"
   ]
  },
  {
   "cell_type": "code",
   "execution_count": null,
   "id": "724b0f4e-802f-4e2c-976a-81099ee72cfc",
   "metadata": {},
   "outputs": [],
   "source": []
  },
  {
   "cell_type": "code",
   "execution_count": null,
   "id": "3064b08f-2925-4f0e-a7ff-36207441a3e6",
   "metadata": {},
   "outputs": [],
   "source": [
    "edges_0 = ox.distance.nearest_edges(network_utm, eastings, northings)"
   ]
  },
  {
   "cell_type": "code",
   "execution_count": null,
   "id": "89404903-b84f-4440-a063-692d4364679b",
   "metadata": {
    "tags": []
   },
   "outputs": [],
   "source": [
    "rn = RoadNetwork(road_network)\n",
    "edges_1 = []\n",
    "cache = dict()\n",
    "for p in trajectory:\n",
    "    if p not in cache:\n",
    "        edge = rn.get_matching_edge(*p)\n",
    "        cache[p] = edge\n",
    "    edges_1.append(cache[p])"
   ]
  },
  {
   "cell_type": "code",
   "execution_count": null,
   "id": "237cb6f8-02d4-4d07-b422-2679cb7b26e9",
   "metadata": {},
   "outputs": [],
   "source": [
    "rn = RoadNetwork(road_network)\n",
    "edges_2 = []\n",
    "cache = dict()\n",
    "for p in trajectory:\n",
    "    if p not in cache:\n",
    "        edge = rn.get_nearest_edge(*p)\n",
    "        cache[p] = edge\n",
    "    edges_2.append(cache[p])"
   ]
  },
  {
   "cell_type": "code",
   "execution_count": null,
   "id": "4a09eb65-9a42-4729-b905-92ec66f9a2d9",
   "metadata": {},
   "outputs": [],
   "source": []
  },
  {
   "cell_type": "code",
   "execution_count": null,
   "id": "2a406601-821f-4991-95e7-458e7f4d2563",
   "metadata": {},
   "outputs": [],
   "source": [
    "e0 = [(e[0], e[1]) for e in edges_0 if e is not None]\n",
    "e1 = [(e[0], e[1]) for e in edges_1 if e is not None]\n",
    "e2 = [(e[0], e[1]) for e in edges_2 if e is not None]"
   ]
  },
  {
   "cell_type": "code",
   "execution_count": null,
   "id": "e766a7c5-66af-42b9-9469-689dea1d2050",
   "metadata": {},
   "outputs": [],
   "source": []
  },
  {
   "cell_type": "code",
   "execution_count": null,
   "id": "d08a1b18-2919-4ff5-b8c4-eb87fa952363",
   "metadata": {},
   "outputs": [],
   "source": [
    "len(e0), len(e1), len(e2)"
   ]
  },
  {
   "cell_type": "code",
   "execution_count": null,
   "id": "7b3f4879-9787-4d6e-9387-eb45d1896ba6",
   "metadata": {},
   "outputs": [],
   "source": []
  },
  {
   "cell_type": "code",
   "execution_count": null,
   "id": "4dc8b8ee-ddd8-4a3b-8cfd-e36f78e966d4",
   "metadata": {},
   "outputs": [],
   "source": [
    "max([road_network[e[0]][e[1]][0][\"length\"] for e in road_network.edges if \"length\" in road_network[e[0]][e[1]][0]])"
   ]
  },
  {
   "cell_type": "code",
   "execution_count": null,
   "id": "b6c6f60d-b60f-41a4-b8ec-b5e56793df69",
   "metadata": {},
   "outputs": [],
   "source": [
    "ds = []\n",
    "for e in road_network.edges:\n",
    "    n0 = road_network.nodes[e[0]]\n",
    "    n1 = road_network.nodes[e[1]]\n",
    "    ds.append(num_haversine(n0['y'], n0['x'], n1['y'], n1['x']))"
   ]
  },
  {
   "cell_type": "code",
   "execution_count": null,
   "id": "2b8bf0f8-363e-44ea-b263-bfbfab45fc55",
   "metadata": {},
   "outputs": [],
   "source": [
    "max(ds)"
   ]
  },
  {
   "cell_type": "code",
   "execution_count": null,
   "id": "1945a086-313d-4b22-85b1-7b314feb65be",
   "metadata": {},
   "outputs": [],
   "source": []
  }
 ],
 "metadata": {
  "kernelspec": {
   "display_name": "Python 3 (ipykernel)",
   "language": "python",
   "name": "python3"
  },
  "language_info": {
   "codemirror_mode": {
    "name": "ipython",
    "version": 3
   },
   "file_extension": ".py",
   "mimetype": "text/x-python",
   "name": "python",
   "nbconvert_exporter": "python",
   "pygments_lexer": "ipython3",
   "version": "3.10.4"
  }
 },
 "nbformat": 4,
 "nbformat_minor": 5
}
