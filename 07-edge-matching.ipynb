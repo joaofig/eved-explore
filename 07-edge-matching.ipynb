{
 "cells": [
  {
   "cell_type": "markdown",
   "id": "176f64d3-823a-49f1-a72a-7751d163a4a8",
   "metadata": {},
   "source": [
    "# 07-Edge Matching\n",
    "\n",
    "This notebooks shows how to match road network edges to the EVED map-matched GPS locations using three different methods:\n",
    "1. OSMnx API\n",
    "2. Triangle inequality query with fit metric\n",
    "3. Triangle inequality query with distance metric\n",
    "\n",
    "**Requirements**: Run the `calculate-trajectories.py` script before running this notebook."
   ]
  },
  {
   "cell_type": "code",
   "execution_count": 1,
   "id": "15fcee83-463d-421b-bd3c-4132c4810cf1",
   "metadata": {},
   "outputs": [],
   "source": [
    "import numpy as np\n",
    "import osmnx as ox\n",
    "import networkx as nx\n",
    "import utm\n",
    "\n",
    "from itertools import pairwise\n",
    "from geo.math import num_haversine, vec_haversine\n",
    "from geo.road import RoadNetwork, download_road_network, download_road_network_bbox\n",
    "from geo.trajectory import load_trajectory_points"
   ]
  },
  {
   "cell_type": "code",
   "execution_count": null,
   "id": "d1d3d81a-2e63-4292-b36f-b5681b6cc180",
   "metadata": {},
   "outputs": [],
   "source": []
  },
  {
   "cell_type": "code",
   "execution_count": 2,
   "id": "70074b43-12ac-490a-a06c-f49503b9c1dd",
   "metadata": {},
   "outputs": [],
   "source": [
    "road_network = download_road_network_bbox(42.325853, 42.220268, -83.804839, -83.673437)\n",
    "\n",
    "# road_network = download_road_network(\"Ann Arbor, Michigan, USA\")"
   ]
  },
  {
   "cell_type": "markdown",
   "id": "544fef30-2997-4ba4-88bb-f4979de7ddfd",
   "metadata": {},
   "source": [
    "## Matching Edges with OSMnx\n",
    "\n",
    "We start by using OSMnx's own functions to find edge matches to locations sampled from the EVED. The first thing we need to do is to project the whole road network to the local UTM projection."
   ]
  },
  {
   "cell_type": "code",
   "execution_count": 3,
   "id": "4228abae-7fc0-4f54-acba-c4d530c066e5",
   "metadata": {},
   "outputs": [],
   "source": [
    "network_utm = ox.projection.project_graph(road_network)"
   ]
  },
  {
   "cell_type": "markdown",
   "id": "448cacea-0f46-457d-94d4-b8e3a1b2bf32",
   "metadata": {},
   "source": [
    "The above operation converts latitudes and longitudes to a local UTM projection that works as a Cartesian plane in meters. The advantage of such projection is that you can directly use your knowledge of vectors to work out distances and other planar geometry calculations. The disadvantage is that you always need to perform the conversion before using OSMnx's functions. When converting from (_latitude_, _longitude_) to UTM, we get a converted coordinate pair (_x_, _y_) aptly named (_easting_, _northing_), along with the UTM number and letter codes. We might need these later to convert (_easting_, _northing_) back to (_latitude_, _longitude_)."
   ]
  },
  {
   "cell_type": "code",
   "execution_count": 4,
   "id": "cb678ed0-2aef-427f-9ebc-2eb0c6c4b4d5",
   "metadata": {},
   "outputs": [],
   "source": [
    "easting, northing, zone_num, zone_ltr = utm.from_latlon(42.287702, -83.707775)"
   ]
  },
  {
   "cell_type": "markdown",
   "id": "9ac1a93f-4de0-4064-a8c6-b7daf608930e",
   "metadata": {},
   "source": [
    "We can now call OSMnx's `nearest_edges` [function](https://osmnx.readthedocs.io/en/stable/osmnx.html#osmnx.distance.nearest_edges) to determine the closest edges."
   ]
  },
  {
   "cell_type": "code",
   "execution_count": 5,
   "id": "0c226806-fffc-4f07-bb5f-6b5995760ab5",
   "metadata": {},
   "outputs": [],
   "source": [
    "edge_id = ox.distance.nearest_edges(network_utm, easting, northing)"
   ]
  },
  {
   "cell_type": "code",
   "execution_count": 6,
   "id": "684bbf78-04ab-48b8-960e-29d7dc10765f",
   "metadata": {},
   "outputs": [
    {
     "data": {
      "text/plain": [
       "(62505058, 4306881815, 0)"
      ]
     },
     "execution_count": 6,
     "metadata": {},
     "output_type": "execute_result"
    }
   ],
   "source": [
    "edge_id"
   ]
  },
  {
   "cell_type": "markdown",
   "id": "d3367aeb-240b-40e5-8882-0e39936b4dc9",
   "metadata": {},
   "source": [
    "The first two numbers in the tuple identify the edge's nodes, and we can query it from the network using the following:"
   ]
  },
  {
   "cell_type": "code",
   "execution_count": 7,
   "id": "5f800e8f-8d47-450e-88ee-e7d221418423",
   "metadata": {},
   "outputs": [
    {
     "data": {
      "text/plain": [
       "{'osmid': 8723817,\n",
       " 'oneway': False,\n",
       " 'lanes': '2',\n",
       " 'highway': 'tertiary',\n",
       " 'reversed': True,\n",
       " 'length': 116.428,\n",
       " 'speed_kph': 48.3,\n",
       " 'travel_time': 8.7,\n",
       " 'bearing': 267.3,\n",
       " 'name': 'Glazier Way',\n",
       " 'maxspeed': '30 mph'}"
      ]
     },
     "execution_count": 7,
     "metadata": {},
     "output_type": "execute_result"
    }
   ],
   "source": [
    "network_utm[edge_id[0]][edge_id[1]][0]"
   ]
  },
  {
   "cell_type": "code",
   "execution_count": 8,
   "id": "42d0b090-da7d-43ec-8d35-3fb2f0faf9a4",
   "metadata": {},
   "outputs": [
    {
     "data": {
      "text/plain": [
       "{'osmid': 8723817,\n",
       " 'oneway': False,\n",
       " 'lanes': '2',\n",
       " 'highway': 'tertiary',\n",
       " 'reversed': False,\n",
       " 'length': 116.428,\n",
       " 'speed_kph': 48.3,\n",
       " 'travel_time': 8.7,\n",
       " 'bearing': 87.3,\n",
       " 'name': 'Glazier Way',\n",
       " 'maxspeed': '30 mph'}"
      ]
     },
     "execution_count": 8,
     "metadata": {},
     "output_type": "execute_result"
    }
   ],
   "source": [
    "network_utm[edge_id[1]][edge_id[0]][0]"
   ]
  },
  {
   "cell_type": "code",
   "execution_count": 9,
   "id": "b6b105ba-727b-4809-a771-c2e9e12eab8d",
   "metadata": {},
   "outputs": [],
   "source": [
    "trajectory = load_trajectory_points(4, unique=True)\n",
    "raw_lists = map(list, zip(*trajectory))\n",
    "latitudes, longitudes, bearings = map(np.array, raw_lists)"
   ]
  },
  {
   "cell_type": "code",
   "execution_count": null,
   "id": "b618b760-4b68-4b32-ad7b-a1ffa2637ea3",
   "metadata": {},
   "outputs": [],
   "source": []
  },
  {
   "cell_type": "code",
   "execution_count": null,
   "id": "96e1dcc1-8c0e-4814-be4d-ef70fb4860f2",
   "metadata": {},
   "outputs": [],
   "source": []
  },
  {
   "cell_type": "code",
   "execution_count": 10,
   "id": "6edf3cd8-a06c-4bf4-aace-3f952dc2b3b8",
   "metadata": {},
   "outputs": [],
   "source": [
    "eastings, northings, zone_num, zone_ltr = utm.from_latlon(latitudes, longitudes)"
   ]
  },
  {
   "cell_type": "code",
   "execution_count": 11,
   "id": "a29f99d8-1825-470f-90fc-91772c2232ac",
   "metadata": {},
   "outputs": [
    {
     "data": {
      "text/plain": [
       "(203, 203)"
      ]
     },
     "execution_count": 11,
     "metadata": {},
     "output_type": "execute_result"
    }
   ],
   "source": [
    "len(eastings), len(northings)"
   ]
  },
  {
   "cell_type": "markdown",
   "id": "7765be94-58de-40f1-a253-1f4d30c50f61",
   "metadata": {},
   "source": [
    "## Performance Metrics\n",
    "\n",
    "**OSMnx 1.3.0**"
   ]
  },
  {
   "cell_type": "code",
   "execution_count": 12,
   "id": "127db10f-f4a8-4646-848a-bbc8fa7e12db",
   "metadata": {},
   "outputs": [
    {
     "name": "stdout",
     "output_type": "stream",
     "text": [
      "3.3 s ± 18.5 ms per loop (mean ± std. dev. of 7 runs, 1 loop each)\n"
     ]
    }
   ],
   "source": [
    "%%timeit\n",
    "ox.distance.nearest_edges(network_utm, eastings, northings)"
   ]
  },
  {
   "cell_type": "markdown",
   "id": "280e55b8-cc99-4b62-8b01-f75b9a7f47a6",
   "metadata": {},
   "source": [
    "**Fitness Ratio**"
   ]
  },
  {
   "cell_type": "code",
   "execution_count": 13,
   "id": "62b2fb38-64ba-4d42-939b-1fe6b77388a7",
   "metadata": {},
   "outputs": [
    {
     "name": "stdout",
     "output_type": "stream",
     "text": [
      "465 ms ± 13.3 ms per loop (mean ± std. dev. of 7 runs, 1 loop each)\n"
     ]
    }
   ],
   "source": [
    "%%timeit\n",
    "rn = RoadNetwork(road_network)\n",
    "cache = dict()\n",
    "for p in trajectory:\n",
    "    if p not in cache:\n",
    "        edge = rn.get_matching_edge(*p)\n",
    "        cache[p] = edge"
   ]
  },
  {
   "cell_type": "markdown",
   "id": "bc517ee6-b6b9-48e0-95ec-2435f3b4e6c2",
   "metadata": {},
   "source": [
    "**Distance**"
   ]
  },
  {
   "cell_type": "code",
   "execution_count": 14,
   "id": "e1aa529b-57e9-4be4-b907-38f7e4c1724a",
   "metadata": {},
   "outputs": [
    {
     "name": "stdout",
     "output_type": "stream",
     "text": [
      "487 ms ± 8.46 ms per loop (mean ± std. dev. of 7 runs, 1 loop each)\n"
     ]
    }
   ],
   "source": [
    "%%timeit\n",
    "rn = RoadNetwork(road_network)\n",
    "cache = dict()\n",
    "for p in trajectory:\n",
    "    if p not in cache:\n",
    "        edge = rn.get_nearest_edge(*p)\n",
    "        cache[p] = edge"
   ]
  },
  {
   "cell_type": "code",
   "execution_count": null,
   "id": "724b0f4e-802f-4e2c-976a-81099ee72cfc",
   "metadata": {},
   "outputs": [],
   "source": []
  },
  {
   "cell_type": "code",
   "execution_count": 15,
   "id": "3064b08f-2925-4f0e-a7ff-36207441a3e6",
   "metadata": {},
   "outputs": [],
   "source": [
    "edges_0 = ox.distance.nearest_edges(network_utm, eastings, northings)"
   ]
  },
  {
   "cell_type": "code",
   "execution_count": 16,
   "id": "89404903-b84f-4440-a063-692d4364679b",
   "metadata": {
    "tags": []
   },
   "outputs": [],
   "source": [
    "rn = RoadNetwork(road_network)\n",
    "edges_1 = []\n",
    "cache = dict()\n",
    "for p in trajectory:\n",
    "    if p not in cache:\n",
    "        edge = rn.get_matching_edge(*p)\n",
    "        cache[p] = edge\n",
    "    edges_1.append(cache[p])"
   ]
  },
  {
   "cell_type": "code",
   "execution_count": 17,
   "id": "237cb6f8-02d4-4d07-b422-2679cb7b26e9",
   "metadata": {},
   "outputs": [],
   "source": [
    "rn = RoadNetwork(road_network)\n",
    "edges_2 = []\n",
    "cache = dict()\n",
    "for p in trajectory:\n",
    "    if p not in cache:\n",
    "        edge = rn.get_nearest_edge(*p)\n",
    "        cache[p] = edge\n",
    "    edges_2.append(cache[p])"
   ]
  },
  {
   "cell_type": "code",
   "execution_count": null,
   "id": "4a09eb65-9a42-4729-b905-92ec66f9a2d9",
   "metadata": {},
   "outputs": [],
   "source": []
  },
  {
   "cell_type": "code",
   "execution_count": 18,
   "id": "2a406601-821f-4991-95e7-458e7f4d2563",
   "metadata": {},
   "outputs": [],
   "source": [
    "e0 = [(e[0], e[1]) for e in edges_0 if e is not None]\n",
    "e1 = [(e[0], e[1]) for e in edges_1 if e is not None]\n",
    "e2 = [(e[0], e[1]) for e in edges_2 if e is not None]"
   ]
  },
  {
   "cell_type": "code",
   "execution_count": null,
   "id": "e766a7c5-66af-42b9-9469-689dea1d2050",
   "metadata": {},
   "outputs": [],
   "source": []
  },
  {
   "cell_type": "code",
   "execution_count": 19,
   "id": "d08a1b18-2919-4ff5-b8c4-eb87fa952363",
   "metadata": {},
   "outputs": [
    {
     "data": {
      "text/plain": [
       "(203, 203, 203)"
      ]
     },
     "execution_count": 19,
     "metadata": {},
     "output_type": "execute_result"
    }
   ],
   "source": [
    "len(e0), len(e1), len(e2)"
   ]
  },
  {
   "cell_type": "code",
   "execution_count": null,
   "id": "7b3f4879-9787-4d6e-9387-eb45d1896ba6",
   "metadata": {},
   "outputs": [],
   "source": []
  },
  {
   "cell_type": "code",
   "execution_count": 20,
   "id": "4dc8b8ee-ddd8-4a3b-8cfd-e36f78e966d4",
   "metadata": {},
   "outputs": [
    {
     "data": {
      "text/plain": [
       "608.873"
      ]
     },
     "execution_count": 20,
     "metadata": {},
     "output_type": "execute_result"
    }
   ],
   "source": [
    "max([road_network[e[0]][e[1]][0][\"length\"] for e in road_network.edges if \"length\" in road_network[e[0]][e[1]][0]])"
   ]
  },
  {
   "cell_type": "code",
   "execution_count": 21,
   "id": "b6c6f60d-b60f-41a4-b8ec-b5e56793df69",
   "metadata": {},
   "outputs": [],
   "source": [
    "ds = []\n",
    "for e in road_network.edges:\n",
    "    n0 = road_network.nodes[e[0]]\n",
    "    n1 = road_network.nodes[e[1]]\n",
    "    ds.append(num_haversine(n0['y'], n0['x'], n1['y'], n1['x']))"
   ]
  },
  {
   "cell_type": "code",
   "execution_count": 22,
   "id": "2b8bf0f8-363e-44ea-b263-bfbfab45fc55",
   "metadata": {},
   "outputs": [
    {
     "data": {
      "text/plain": [
       "609.5543654244057"
      ]
     },
     "execution_count": 22,
     "metadata": {},
     "output_type": "execute_result"
    }
   ],
   "source": [
    "max(ds)"
   ]
  },
  {
   "cell_type": "code",
   "execution_count": 23,
   "id": "6a61cb8c-13c0-4fd3-ab2c-00ff374556b0",
   "metadata": {},
   "outputs": [
    {
     "data": {
      "text/plain": [
       "AdjacencyView({62476299: {0: {'osmid': 8859758, 'lanes': '4', 'name': 'Ann Arbor-Saline Road', 'highway': 'secondary', 'maxspeed': '45 mph', 'oneway': False, 'reversed': False, 'length': 49.169, 'speed_kph': 72.4, 'travel_time': 2.4, 'bearing': 221.1}}, 64349821: {0: {'osmid': 8859758, 'lanes': '4', 'name': 'Ann Arbor-Saline Road', 'highway': 'secondary', 'maxspeed': '45 mph', 'oneway': False, 'reversed': True, 'length': 127.553, 'speed_kph': 72.4, 'travel_time': 6.3, 'bearing': 42.4}}})"
      ]
     },
     "execution_count": 23,
     "metadata": {},
     "output_type": "execute_result"
    }
   ],
   "source": [
    "road_network[62503307]"
   ]
  },
  {
   "cell_type": "code",
   "execution_count": 24,
   "id": "1945a086-313d-4b22-85b1-7b314feb65be",
   "metadata": {},
   "outputs": [
    {
     "data": {
      "text/plain": [
       "{'y': 42.3001518, 'x': -83.6871173, 'street_count': 2}"
      ]
     },
     "execution_count": 24,
     "metadata": {},
     "output_type": "execute_result"
    }
   ],
   "source": [
    "road_network.nodes[26950035]"
   ]
  },
  {
   "cell_type": "code",
   "execution_count": 25,
   "id": "3bb211b7-49cd-4d3a-b7b6-f7ca6751401f",
   "metadata": {},
   "outputs": [],
   "source": [
    "ys = set()\n",
    "xs = set()\n",
    "for node in road_network.nodes:\n",
    "    ys.add(road_network.nodes[node]['y'])\n",
    "    xs.add(road_network.nodes[node]['x'])"
   ]
  },
  {
   "cell_type": "code",
   "execution_count": 26,
   "id": "ec2812ed-cab8-4199-899f-69d7fa6d804d",
   "metadata": {},
   "outputs": [
    {
     "data": {
      "text/plain": [
       "(42.2202745, 42.3258498, -83.8048349, -83.6734421)"
      ]
     },
     "execution_count": 26,
     "metadata": {},
     "output_type": "execute_result"
    }
   ],
   "source": [
    "min(ys), max(ys), min(xs), max(xs)"
   ]
  },
  {
   "cell_type": "code",
   "execution_count": 27,
   "id": "d5af4b86-deaa-4ecb-90dc-cf5039e01ec5",
   "metadata": {},
   "outputs": [
    {
     "data": {
      "text/plain": [
       "[6093040500, 4659829181, 4659847762, 4659847759]"
      ]
     },
     "execution_count": 27,
     "metadata": {},
     "output_type": "execute_result"
    }
   ],
   "source": [
    "list(road_network.adj[62503312])"
   ]
  },
  {
   "cell_type": "code",
   "execution_count": 28,
   "id": "b153b21f-b619-460e-bd93-4d73f7c38e44",
   "metadata": {},
   "outputs": [
    {
     "data": {
      "text/plain": [
       "[62503312, 4659847762, 9871253637]"
      ]
     },
     "execution_count": 28,
     "metadata": {},
     "output_type": "execute_result"
    }
   ],
   "source": [
    "nx.shortest_path(road_network, 62503312, 9871253637)"
   ]
  },
  {
   "cell_type": "code",
   "execution_count": 29,
   "id": "700c43a5-48ce-4789-9db7-7bee082e22e1",
   "metadata": {},
   "outputs": [
    {
     "data": {
      "text/plain": [
       "[62476295, 62476294]"
      ]
     },
     "execution_count": 29,
     "metadata": {},
     "output_type": "execute_result"
    }
   ],
   "source": [
    "nx.shortest_path(road_network, 62476295, 62476294)"
   ]
  },
  {
   "cell_type": "code",
   "execution_count": 30,
   "id": "5db6e566-49f5-4853-98f3-6e3443334d41",
   "metadata": {},
   "outputs": [
    {
     "data": {
      "text/plain": [
       "19"
      ]
     },
     "execution_count": 30,
     "metadata": {},
     "output_type": "execute_result"
    }
   ],
   "source": [
    "nx.number_connected_components(nx.to_undirected(road_network))"
   ]
  },
  {
   "cell_type": "code",
   "execution_count": null,
   "id": "89fafb65-2188-4fd8-8b2a-b5237f208d5c",
   "metadata": {},
   "outputs": [],
   "source": []
  },
  {
   "cell_type": "code",
   "execution_count": 31,
   "id": "2e2665cb-e290-4138-85c6-f358e9b518cd",
   "metadata": {},
   "outputs": [
    {
     "data": {
      "text/plain": [
       "False"
      ]
     },
     "execution_count": 31,
     "metadata": {},
     "output_type": "execute_result"
    }
   ],
   "source": [
    "nx.has_path(road_network, 62504320, 62475322)"
   ]
  },
  {
   "cell_type": "code",
   "execution_count": null,
   "id": "aa8f3c15-6493-4f3a-9bbe-75b3e2a375b7",
   "metadata": {},
   "outputs": [],
   "source": []
  }
 ],
 "metadata": {
  "kernelspec": {
   "display_name": "Python 3 (ipykernel)",
   "language": "python",
   "name": "python3"
  },
  "language_info": {
   "codemirror_mode": {
    "name": "ipython",
    "version": 3
   },
   "file_extension": ".py",
   "mimetype": "text/x-python",
   "name": "python",
   "nbconvert_exporter": "python",
   "pygments_lexer": "ipython3",
   "version": "3.10.4"
  }
 },
 "nbformat": 4,
 "nbformat_minor": 5
}
