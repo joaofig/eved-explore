{
 "cells": [
  {
   "cell_type": "code",
   "execution_count": null,
   "id": "752e7d33-37bc-4be0-9f75-63275ba3edc4",
   "metadata": {},
   "outputs": [],
   "source": []
  },
  {
   "cell_type": "code",
   "execution_count": 1,
   "id": "15fcee83-463d-421b-bd3c-4132c4810cf1",
   "metadata": {},
   "outputs": [],
   "source": [
    "import numpy as np\n",
    "import osmnx as ox\n",
    "import utm\n",
    "\n",
    "from geo.math import num_haversine, vec_haversine\n",
    "from geo.road import RoadNetwork, download_road_network\n",
    "from geo.trajectory import load_trajectory_points"
   ]
  },
  {
   "cell_type": "code",
   "execution_count": null,
   "id": "d1d3d81a-2e63-4292-b36f-b5681b6cc180",
   "metadata": {},
   "outputs": [],
   "source": []
  },
  {
   "cell_type": "code",
   "execution_count": 2,
   "id": "70074b43-12ac-490a-a06c-f49503b9c1dd",
   "metadata": {},
   "outputs": [],
   "source": [
    "road_network = download_road_network(\"Ann Arbor, Michigan, USA\")\n",
    "# road_network = download_road_network(\"Michigan, USA\")"
   ]
  },
  {
   "cell_type": "markdown",
   "id": "544fef30-2997-4ba4-88bb-f4979de7ddfd",
   "metadata": {},
   "source": [
    "## Matching Edges with OSMnx\n",
    "\n",
    "We start by using OSMnx's own functions to find edge matches to locations sampled from the EVED. The first thing we need to do is to project the whole road network to the local UTM projection."
   ]
  },
  {
   "cell_type": "code",
   "execution_count": 3,
   "id": "4228abae-7fc0-4f54-acba-c4d530c066e5",
   "metadata": {},
   "outputs": [],
   "source": [
    "network_utm = ox.projection.project_graph(road_network)"
   ]
  },
  {
   "cell_type": "markdown",
   "id": "448cacea-0f46-457d-94d4-b8e3a1b2bf32",
   "metadata": {},
   "source": [
    "The above operation converts latitudes and longitudes to a local UTM projection that works as a Cartesian plane in meters. The advantage of such projection is that you can directly use your knowledge of vectors to work out distances and other planar geometry calculations. The disadvantage is that you always need to perform the conversion before using OSMnx's functions. When converting from (_latitude_, _longitude_) to UTM, we get a converted coordinate pair (_x_, _y_) aptly named (_easting_, _northing_), along with the UTM number and letter codes. We might need these later to convert (_easting_, _northing_) back to (_latitude_, _longitude_)."
   ]
  },
  {
   "cell_type": "code",
   "execution_count": 4,
   "id": "cb678ed0-2aef-427f-9ebc-2eb0c6c4b4d5",
   "metadata": {},
   "outputs": [],
   "source": [
    "easting, northing, zone_num, zone_ltr = utm.from_latlon(42.287702, -83.707775)"
   ]
  },
  {
   "cell_type": "markdown",
   "id": "9ac1a93f-4de0-4064-a8c6-b7daf608930e",
   "metadata": {},
   "source": [
    "We can now call OSMnx's `nearest_edges` [function](https://osmnx.readthedocs.io/en/stable/osmnx.html#osmnx.distance.nearest_edges) to determine the closest edges."
   ]
  },
  {
   "cell_type": "code",
   "execution_count": 5,
   "id": "0c226806-fffc-4f07-bb5f-6b5995760ab5",
   "metadata": {},
   "outputs": [],
   "source": [
    "edge_id = ox.distance.nearest_edges(network_utm, easting, northing)"
   ]
  },
  {
   "cell_type": "code",
   "execution_count": 6,
   "id": "684bbf78-04ab-48b8-960e-29d7dc10765f",
   "metadata": {},
   "outputs": [
    {
     "data": {
      "text/plain": [
       "(62505058, 4306881815, 0)"
      ]
     },
     "execution_count": 6,
     "metadata": {},
     "output_type": "execute_result"
    }
   ],
   "source": [
    "edge_id"
   ]
  },
  {
   "cell_type": "markdown",
   "id": "d3367aeb-240b-40e5-8882-0e39936b4dc9",
   "metadata": {},
   "source": [
    "The first two numbers in the tuple identify the edge's nodes, and we can query it from the network using the following:"
   ]
  },
  {
   "cell_type": "code",
   "execution_count": null,
   "id": "f80537b9-0a2a-48e8-8c91-1f0f5889f1f0",
   "metadata": {},
   "outputs": [],
   "source": []
  },
  {
   "cell_type": "code",
   "execution_count": 7,
   "id": "5f800e8f-8d47-450e-88ee-e7d221418423",
   "metadata": {},
   "outputs": [
    {
     "data": {
      "text/plain": [
       "{'osmid': 8723817,\n",
       " 'oneway': False,\n",
       " 'lanes': '2',\n",
       " 'highway': 'tertiary',\n",
       " 'reversed': True,\n",
       " 'length': 116.428,\n",
       " 'speed_kph': 48.3,\n",
       " 'travel_time': 8.7,\n",
       " 'bearing': 267.3,\n",
       " 'name': 'Glazier Way',\n",
       " 'maxspeed': '30 mph'}"
      ]
     },
     "execution_count": 7,
     "metadata": {},
     "output_type": "execute_result"
    }
   ],
   "source": [
    "network_utm[edge_id[0]][edge_id[1]][0]"
   ]
  },
  {
   "cell_type": "code",
   "execution_count": 8,
   "id": "42d0b090-da7d-43ec-8d35-3fb2f0faf9a4",
   "metadata": {},
   "outputs": [
    {
     "data": {
      "text/plain": [
       "{'osmid': 8723817,\n",
       " 'oneway': False,\n",
       " 'lanes': '2',\n",
       " 'highway': 'tertiary',\n",
       " 'reversed': False,\n",
       " 'length': 116.428,\n",
       " 'speed_kph': 48.3,\n",
       " 'travel_time': 8.7,\n",
       " 'bearing': 87.3,\n",
       " 'name': 'Glazier Way',\n",
       " 'maxspeed': '30 mph'}"
      ]
     },
     "execution_count": 8,
     "metadata": {},
     "output_type": "execute_result"
    }
   ],
   "source": [
    "network_utm[edge_id[1]][edge_id[0]][0]"
   ]
  },
  {
   "cell_type": "code",
   "execution_count": 9,
   "id": "66b5cb0a-55f5-4db7-8cef-8104deb99ea1",
   "metadata": {},
   "outputs": [],
   "source": [
    "trajectory = load_trajectory_points(4)\n",
    "latitudes = np.array([p[0] for p in trajectory])\n",
    "longitudes = np.array([p[1] for p in trajectory])"
   ]
  },
  {
   "cell_type": "code",
   "execution_count": 10,
   "id": "6edf3cd8-a06c-4bf4-aace-3f952dc2b3b8",
   "metadata": {},
   "outputs": [],
   "source": [
    "eastings, northings, zone_num, zone_ltr = utm.from_latlon(latitudes, longitudes)"
   ]
  },
  {
   "cell_type": "code",
   "execution_count": 11,
   "id": "127db10f-f4a8-4646-848a-bbc8fa7e12db",
   "metadata": {},
   "outputs": [
    {
     "name": "stdout",
     "output_type": "stream",
     "text": [
      "7.18 s ± 142 ms per loop (mean ± std. dev. of 7 runs, 1 loop each)\n"
     ]
    }
   ],
   "source": [
    "%%timeit\n",
    "ox.distance.nearest_edges(network_utm, eastings, northings)"
   ]
  },
  {
   "cell_type": "code",
   "execution_count": 12,
   "id": "3064b08f-2925-4f0e-a7ff-36207441a3e6",
   "metadata": {},
   "outputs": [],
   "source": [
    "edges_0 = ox.distance.nearest_edges(network_utm, eastings, northings)"
   ]
  },
  {
   "cell_type": "code",
   "execution_count": 13,
   "id": "62b2fb38-64ba-4d42-939b-1fe6b77388a7",
   "metadata": {},
   "outputs": [
    {
     "name": "stdout",
     "output_type": "stream",
     "text": [
      "813 ms ± 104 ms per loop (mean ± std. dev. of 7 runs, 1 loop each)\n"
     ]
    }
   ],
   "source": [
    "%%timeit\n",
    "rn = RoadNetwork(road_network)\n",
    "[rn.get_matching_edge(lat, lon) for lat, lon, _ in trajectory]"
   ]
  },
  {
   "cell_type": "code",
   "execution_count": 14,
   "id": "89404903-b84f-4440-a063-692d4364679b",
   "metadata": {},
   "outputs": [],
   "source": [
    "rn = RoadNetwork(road_network)\n",
    "edges_1 = [rn.get_matching_edge(lat, lon) for lat, lon, _ in trajectory]"
   ]
  },
  {
   "cell_type": "code",
   "execution_count": 15,
   "id": "2a406601-821f-4991-95e7-458e7f4d2563",
   "metadata": {},
   "outputs": [],
   "source": [
    "e0 = [(e[0], e[1]) for e in edges_0 if e is not None]"
   ]
  },
  {
   "cell_type": "code",
   "execution_count": 16,
   "id": "e766a7c5-66af-42b9-9469-689dea1d2050",
   "metadata": {},
   "outputs": [],
   "source": [
    "e1 = [(e[0], e[1]) for e in edges_1 if e is not None]"
   ]
  },
  {
   "cell_type": "code",
   "execution_count": 17,
   "id": "d08a1b18-2919-4ff5-b8c4-eb87fa952363",
   "metadata": {},
   "outputs": [
    {
     "data": {
      "text/plain": [
       "(203, 203)"
      ]
     },
     "execution_count": 17,
     "metadata": {},
     "output_type": "execute_result"
    }
   ],
   "source": [
    "len(e0), len(e1)"
   ]
  },
  {
   "cell_type": "code",
   "execution_count": null,
   "id": "df8fa2bd-d607-42d6-9108-61963f2aad27",
   "metadata": {},
   "outputs": [],
   "source": []
  },
  {
   "cell_type": "code",
   "execution_count": 18,
   "id": "4dc8b8ee-ddd8-4a3b-8cfd-e36f78e966d4",
   "metadata": {},
   "outputs": [
    {
     "data": {
      "text/plain": [
       "561.48"
      ]
     },
     "execution_count": 18,
     "metadata": {},
     "output_type": "execute_result"
    }
   ],
   "source": [
    "max([road_network[e[0]][e[1]][0][\"length\"] for e in road_network.edges if \"length\" in road_network[e[0]][e[1]][0]])"
   ]
  },
  {
   "cell_type": "code",
   "execution_count": 19,
   "id": "b6c6f60d-b60f-41a4-b8ec-b5e56793df69",
   "metadata": {},
   "outputs": [],
   "source": [
    "ds = []\n",
    "for e in road_network.edges:\n",
    "    n0 = road_network.nodes[e[0]]\n",
    "    n1 = road_network.nodes[e[1]]\n",
    "    ds.append(num_haversine(n0['y'], n0['x'], n1['y'], n1['x']))"
   ]
  },
  {
   "cell_type": "code",
   "execution_count": 20,
   "id": "2b8bf0f8-363e-44ea-b263-bfbfab45fc55",
   "metadata": {},
   "outputs": [
    {
     "data": {
      "text/plain": [
       "562.1077805301397"
      ]
     },
     "execution_count": 20,
     "metadata": {},
     "output_type": "execute_result"
    }
   ],
   "source": [
    "max(ds)"
   ]
  },
  {
   "cell_type": "code",
   "execution_count": null,
   "id": "1945a086-313d-4b22-85b1-7b314feb65be",
   "metadata": {},
   "outputs": [],
   "source": []
  },
  {
   "cell_type": "code",
   "execution_count": null,
   "id": "14e98212-aeb8-4435-a828-1cf33120f06d",
   "metadata": {},
   "outputs": [],
   "source": []
  }
 ],
 "metadata": {
  "kernelspec": {
   "display_name": "Python 3 (ipykernel)",
   "language": "python",
   "name": "python3"
  },
  "language_info": {
   "codemirror_mode": {
    "name": "ipython",
    "version": 3
   },
   "file_extension": ".py",
   "mimetype": "text/x-python",
   "name": "python",
   "nbconvert_exporter": "python",
   "pygments_lexer": "ipython3",
   "version": "3.10.4"
  }
 },
 "nbformat": 4,
 "nbformat_minor": 5
}
