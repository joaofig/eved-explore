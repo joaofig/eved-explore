{
 "cells": [
  {
   "cell_type": "markdown",
   "id": "05b7585d",
   "metadata": {},
   "source": [
    "# 05-Trip Duration Estimation\n",
    "\n"
   ]
  },
  {
   "cell_type": "code",
   "execution_count": null,
   "id": "b73c8e98-abbe-499b-bcb4-1b1010eeac26",
   "metadata": {},
   "outputs": [],
   "source": [
    "import numpy as np\n",
    "import osmnx as ox\n",
    "import geopandas as gpd\n",
    "import networkx as nx\n",
    "import folium\n",
    "import numba\n",
    "import matplotlib.pyplot as plt\n",
    "\n",
    "from itertools import pairwise\n",
    "from folium.vector_layers import PolyLine, CircleMarker\n",
    "from pyquadkey2 import quadkey\n",
    "from pyquadkey2.quadkey import TileAnchor, QuadKey\n",
    "from numba import jit\n",
    "from db.api import EVedDb\n",
    "from tqdm.notebook import tqdm_notebook as tqdm"
   ]
  },
  {
   "cell_type": "markdown",
   "id": "8323b1b3",
   "metadata": {},
   "source": [
    "The first step in this notebook is to load the Ann Arbor road network graph using the [OSMnx](https://osmnx.readthedocs.io/en/stable/) package. Note that we are not requesting the simplifications to get better trip endpoint matches."
   ]
  },
  {
   "cell_type": "code",
   "execution_count": null,
   "id": "0e63fc31-4321-45bd-ac8a-433108c6096d",
   "metadata": {},
   "outputs": [],
   "source": [
    "g = ox.graph_from_place('Ann Arbor, Michigan', network_type='drive', simplify=False)"
   ]
  },
  {
   "cell_type": "markdown",
   "id": "184eab51",
   "metadata": {},
   "source": [
    "Plot the city's graph."
   ]
  },
  {
   "cell_type": "code",
   "execution_count": null,
   "id": "8044a0a9-3d43-4e64-acfa-ed5dab4f7c2d",
   "metadata": {},
   "outputs": [],
   "source": [
    "city = ox.plot_graph(g)"
   ]
  },
  {
   "cell_type": "markdown",
   "id": "82707652",
   "metadata": {},
   "source": [
    "Add edge speeds to the graph. This will allow us to compare the speed inferred from the actual data to the theoretical speed."
   ]
  },
  {
   "cell_type": "code",
   "execution_count": null,
   "id": "be3309a8-2bbd-4e62-b24b-ceed920e7236",
   "metadata": {},
   "outputs": [],
   "source": [
    "g = ox.add_edge_speeds(g)"
   ]
  },
  {
   "cell_type": "markdown",
   "id": "9047b25d",
   "metadata": {},
   "source": [
    "Add travel times to the edge properties."
   ]
  },
  {
   "cell_type": "code",
   "execution_count": null,
   "id": "28fb1d22-fa79-4270-abfc-14dd9c28cfe3",
   "metadata": {},
   "outputs": [],
   "source": [
    "g = ox.add_edge_travel_times(g)"
   ]
  },
  {
   "cell_type": "markdown",
   "id": "1a68ce7a",
   "metadata": {},
   "source": [
    "Edge bearings are essential for querying the actual speed vectors. We will only sample speed vectors with a maximum 5 degrees deviation from the edge bearings."
   ]
  },
  {
   "cell_type": "code",
   "execution_count": null,
   "id": "a1b9b7f7-0cc5-4579-9a82-ae9723005125",
   "metadata": {},
   "outputs": [],
   "source": [
    "g = ox.bearing.add_edge_bearings(g)"
   ]
  },
  {
   "cell_type": "markdown",
   "id": "bdb99adf-9a80-4c46-99e1-24e882ec45ba",
   "metadata": {},
   "source": [
    "The code below was slightly adapted from https://max-coding.medium.com/osmnx-part-1-loading-data-from-open-street-maps-and-finding-shortest-route-between-two-points-5bb073b0a27d"
   ]
  },
  {
   "cell_type": "code",
   "execution_count": null,
   "id": "2dc7b686-da8c-4af3-8411-a686579917d3",
   "metadata": {},
   "outputs": [],
   "source": [
    "def geocode_address(address, crs=4326):\n",
    "    geocode = gpd.tools.geocode(address, provider='nominatim', \n",
    "                user_agent=\"QuadKey speedster\").to_crs(crs)\n",
    "    return geocode.iloc[0].geometry.y, geocode.iloc[0].geometry.x"
   ]
  },
  {
   "cell_type": "markdown",
   "id": "95effced-ed7f-41f1-beec-3f019eaac92d",
   "metadata": {},
   "source": [
    "Establish the start and end addresses for the route."
   ]
  },
  {
   "cell_type": "code",
   "execution_count": null,
   "id": "c57ca396-ed20-4f59-9476-c00e5c698f36",
   "metadata": {},
   "outputs": [],
   "source": [
    "addr_ini = \"122 N Thayer St, Ann Arbor, MI 48104, USA\"\n",
    "addr_end = \"1431 Ardmoor Ave, Ann Arbor, MI 48103, USA\""
   ]
  },
  {
   "cell_type": "markdown",
   "id": "6613e3a4-e949-451d-a5fe-d0a7d9303b8b",
   "metadata": {},
   "source": [
    "Geocode the addresses into latitude and longitude coordinates."
   ]
  },
  {
   "cell_type": "code",
   "execution_count": null,
   "id": "f23374da-da40-4e23-b218-3d96c7f5b59d",
   "metadata": {},
   "outputs": [],
   "source": [
    "loc_ini = geocode_address(addr_ini)\n",
    "loc_end = geocode_address(addr_end)"
   ]
  },
  {
   "cell_type": "markdown",
   "id": "026377f8-0efe-41cc-99b2-a5580edae03a",
   "metadata": {},
   "source": [
    "Find the closest nodes in the graph."
   ]
  },
  {
   "cell_type": "code",
   "execution_count": null,
   "id": "c14fe7f6-d8c5-4559-840b-94a461af98eb",
   "metadata": {},
   "outputs": [],
   "source": [
    "node_ini = ox.distance.nearest_nodes(g, loc_ini[1], loc_ini[0])\n",
    "node_end = ox.distance.nearest_nodes(g, loc_end[1], loc_end[0])"
   ]
  },
  {
   "cell_type": "markdown",
   "id": "63b4c3ba",
   "metadata": {},
   "source": [
    "Calculate the route"
   ]
  },
  {
   "cell_type": "code",
   "execution_count": null,
   "id": "1363288b-88e7-4f0d-8937-ed5879477703",
   "metadata": {},
   "outputs": [],
   "source": [
    "route = nx.shortest_path(g, node_ini, node_end, weight='travel_time')"
   ]
  },
  {
   "cell_type": "code",
   "execution_count": null,
   "id": "10e95290-51e5-4073-a53c-d15581eefe8b",
   "metadata": {},
   "outputs": [],
   "source": []
  },
  {
   "cell_type": "code",
   "execution_count": null,
   "id": "afebc928-9bc3-451f-9143-29747a0fa16f",
   "metadata": {},
   "outputs": [],
   "source": []
  },
  {
   "cell_type": "markdown",
   "id": "40de1307",
   "metadata": {},
   "source": [
    "The `fit_bounding_box` function fits the map view from a list of coordinates."
   ]
  },
  {
   "cell_type": "code",
   "execution_count": null,
   "id": "64ba582b-0406-4d9d-9f0b-08bad7deac08",
   "metadata": {},
   "outputs": [],
   "source": [
    "def fit_bounding_box(html_map, bb_list):\n",
    "    if isinstance(bb_list, list):\n",
    "        ll = np.array(bb_list)\n",
    "    else:\n",
    "        ll = bb_list\n",
    "        \n",
    "    min_lat, max_lat = ll[:, 0].min(), ll[:, 0].max()\n",
    "    min_lon, max_lon = ll[:, 1].min(), ll[:, 1].max()\n",
    "    html_map.fit_bounds([[min_lat, min_lon], [max_lat, max_lon]])\n",
    "    return html_map"
   ]
  },
  {
   "cell_type": "markdown",
   "id": "803431db",
   "metadata": {},
   "source": [
    "Draw the map route from the graph information."
   ]
  },
  {
   "cell_type": "code",
   "execution_count": null,
   "id": "4f59b6e3-c6a4-4ae6-b58a-b3978a474e84",
   "metadata": {},
   "outputs": [],
   "source": [
    "def map_route(g, route):\n",
    "    html_map = folium.Map(prefer_canvas=True, tiles=\"cartodbpositron\", max_zoom=20, control_scale=True)\n",
    "    \n",
    "    empty_edges = []\n",
    "    bb_list = []\n",
    "    \n",
    "    for n in route:\n",
    "        loc = g.nodes[n]\n",
    "        CircleMarker((loc['y'], loc['x']), radius=2, color=\"red\", fill=\"red\", opacity=0.5, tooltip=n, popup=n).add_to(html_map)\n",
    "        bb_list.append((loc['y'], loc['x']))\n",
    "    \n",
    "    for n0, n1 in pairwise(route):\n",
    "        edge = g[n0][n1]\n",
    "        l0 = g.nodes[n0]\n",
    "        l1 = g.nodes[n1]\n",
    "        line = [(l0['y'], l0['x']), (l1['y'], l1['x'])]\n",
    "        \n",
    "        PolyLine(line, weight=3, opacity=0.5, popup=edge[0]).add_to(html_map)\n",
    "        \n",
    "    return fit_bounding_box(html_map, bb_list)"
   ]
  },
  {
   "cell_type": "code",
   "execution_count": null,
   "id": "96843e2d-7fb9-4701-bc8d-67efab93507b",
   "metadata": {},
   "outputs": [],
   "source": [
    "map_route(g, route)"
   ]
  },
  {
   "cell_type": "markdown",
   "id": "7d4652a9",
   "metadata": {},
   "source": [
    "The `create_map_polygon` creates an arbitrary map polygon from a list of coordinates."
   ]
  },
  {
   "cell_type": "code",
   "execution_count": null,
   "id": "da0c96a8-c0ac-49b7-a680-43aa3f78f198",
   "metadata": {},
   "outputs": [],
   "source": [
    "def create_map_polygon(xy, tooltip='',\n",
    "                       color='#3388ff',\n",
    "                       opacity=0.7,\n",
    "                       fill_color='#3388ff',\n",
    "                       fill_opacity=0.4, \n",
    "                       weight=1):\n",
    "    points = [[x[0], x[1]] for x in xy]\n",
    "    polygon = folium.vector_layers.Polygon(locations=points,\n",
    "                                           tooltip=tooltip,\n",
    "                                           fill=True,\n",
    "                                           color=color,\n",
    "                                           fill_color=fill_color,\n",
    "                                           fill_opacity=fill_opacity,\n",
    "                                           weight=weight,\n",
    "                                           opacity=opacity)\n",
    "    return polygon"
   ]
  },
  {
   "cell_type": "markdown",
   "id": "0379c721",
   "metadata": {},
   "source": [
    "The `create_map_quadkey` creates a _square_ quadkey map polygon."
   ]
  },
  {
   "cell_type": "code",
   "execution_count": null,
   "id": "ca783165-ec22-4df6-8ccc-b5241160425d",
   "metadata": {},
   "outputs": [],
   "source": [
    "def create_map_quadkey(qk, tooltip='',\n",
    "                       color='#3388ff',\n",
    "                       opacity=0.7,\n",
    "                       fill_color='#3388ff',\n",
    "                       fill_opacity=0.0, \n",
    "                       weight=1):\n",
    "    sw = qk.to_geo(anchor=TileAnchor.ANCHOR_SW)\n",
    "    ne = qk.to_geo(anchor=TileAnchor.ANCHOR_NE)\n",
    "    # cc = qk.to_geo(anchor=TileAnchor.ANCHOR_CENTER)\n",
    "    s, w = sw[0], sw[1]\n",
    "    n, e = ne[0], ne[1]\n",
    "    points = [[n, e], [s, e], [s, w], [n, w]]\n",
    "    return create_map_polygon(points, tooltip=tooltip, \n",
    "                              color=color, opacity=opacity, \n",
    "                              fill_color=fill_color, fill_opacity=fill_opacity,\n",
    "                              weight=weight)"
   ]
  },
  {
   "cell_type": "markdown",
   "id": "8a68b292-c068-4c9e-a0c9-cc7b317f1e62",
   "metadata": {},
   "source": [
    "The function `smooth_line` draws an anti-aliased line using [Xiaolin Wu's line drawing algorithm](https://rosettacode.org/wiki/Xiaolin_Wu%27s_line_algorithm#Python). Please note that this implementation is not a copy from the link's.\n",
    "\n",
    "The advantage of this line drawing method is that it allows us to sample speed vectors from neighboring cells and provides a weight that we can use for each quadkey. The function outputs a list of tuples with the _x_ and _y_ coordinates as well as a weight in the \\[0..1\\] interval."
   ]
  },
  {
   "cell_type": "code",
   "execution_count": null,
   "id": "d8b0ba4c-556d-4c2e-b6f2-5edce3200ec2",
   "metadata": {},
   "outputs": [],
   "source": [
    "def decimal_part(x):\n",
    "    return x - int(x)\n",
    "\n",
    "def smooth_line(x0: int, y0: int, x1: int, y1: int):\n",
    "    line = []\n",
    "    steep = (abs(y1 - y0) > abs(x1 - x0))\n",
    "    \n",
    "    if steep:\n",
    "        x0, y0 = y0, x0\n",
    "        x1, y1 = y1, x1\n",
    "        \n",
    "    if x0 > x1:\n",
    "        x0, x1 = x1, x0\n",
    "        y0, y1 = y1, y0\n",
    "        \n",
    "    dx = x1 - x0\n",
    "    dy = y1 - y0\n",
    "    gradient = 1.0 if dx == 0.0 else dy / dx\n",
    "    \n",
    "    xpx11 = x0\n",
    "    xpx12 = x1\n",
    "    intersect_y = y0\n",
    "    \n",
    "    if steep:\n",
    "        for x in range(xpx11, xpx12 + 1):\n",
    "            i_y = int(intersect_y)\n",
    "            f_y = decimal_part(intersect_y)\n",
    "            r_y = 1.0 - f_y\n",
    "            \n",
    "            line.append((i_y,     x, r_y))\n",
    "            line.append((i_y + 1, x, f_y))\n",
    "            \n",
    "            intersect_y += gradient\n",
    "    else:\n",
    "        for x in range(xpx11, xpx12 + 1):\n",
    "            i_y = int(intersect_y)\n",
    "            f_y = decimal_part(intersect_y)\n",
    "            r_y = 1.0 - f_y\n",
    "            \n",
    "            line.append((x, i_y,     r_y))\n",
    "            line.append((x, i_y + 1, f_y))\n",
    "            \n",
    "            intersect_y += gradient\n",
    "    return line   "
   ]
  },
  {
   "cell_type": "markdown",
   "id": "e594a563-df7c-4281-a515-941cdbb148bf",
   "metadata": {},
   "source": [
    "The code below illustrates how the anti-aliased line code works along with a visual depiction of the same."
   ]
  },
  {
   "cell_type": "code",
   "execution_count": null,
   "id": "29fc63a3-9125-45dc-94fa-01467a6125e9",
   "metadata": {},
   "outputs": [],
   "source": [
    "line = smooth_line(0, 0, 20, 13)\n",
    "line_arr = np.full((15, 21, 3), 255, dtype=np.int32)\n",
    "for p in line:\n",
    "    c = int((1-p[2]) * 255)\n",
    "    line_arr[p[1], p[0]] = np.array([c, c, c])\n",
    "pic = plt.imshow(line_arr, vmin=0, vmax=255, interpolation=None)"
   ]
  },
  {
   "cell_type": "markdown",
   "id": "41f9e5de-0703-4b2f-9262-8bbf9d507e13",
   "metadata": {},
   "source": [
    "For comparison, I am also adding the Bresenham algorithm which does not perform any anti-aliasing."
   ]
  },
  {
   "cell_type": "code",
   "execution_count": null,
   "id": "1003555e-7439-4768-ba50-2052922c3382",
   "metadata": {},
   "outputs": [],
   "source": [
    "def bresenham_line(x0: int, y0: int, x1: int, y1: int):\n",
    "    line = []\n",
    "    \n",
    "    dx = x1 - x0\n",
    "    dy = y1 - y0\n",
    "    \n",
    "    if dy < 0:\n",
    "        dy = -dy\n",
    "        step_y = -1\n",
    "    else:\n",
    "        step_y = 1\n",
    "    \n",
    "    if dx < 0:\n",
    "        dx = -dx\n",
    "        step_x = -1\n",
    "    else:\n",
    "        step_x = 1\n",
    "        \n",
    "    dy = 2 * dy\n",
    "    dx = 2 * dx\n",
    "    \n",
    "    line.append((x0, y0))\n",
    "    \n",
    "    if dx > dy:\n",
    "        fraction = dy - (dx // 2)\n",
    "        \n",
    "        while x0 != x1:\n",
    "            x0 += step_x\n",
    "            if fraction >= 0:\n",
    "                y0 += step_y\n",
    "                fraction -= dx\n",
    "            fraction += dy\n",
    "            line.append((x0, y0))\n",
    "    else:\n",
    "        fraction = dx - (dy // 2)\n",
    "        \n",
    "        while y0 != y1:\n",
    "            if fraction >= 0:\n",
    "                x0 += step_x\n",
    "                fraction -= dy\n",
    "            y0 += step_y\n",
    "            fraction += dx\n",
    "            line.append((x0, y0))\n",
    "    return line"
   ]
  },
  {
   "cell_type": "code",
   "execution_count": null,
   "id": "6e5ee61b-7138-4337-b38d-e85f9105e3f1",
   "metadata": {},
   "outputs": [],
   "source": [
    "line = bresenham_line(0, 0, 20, 13)\n",
    "line_arr = np.full((15, 21, 3), 255, dtype=np.int32)\n",
    "for p in line:\n",
    "    c = 0\n",
    "    line_arr[p[1], p[0]] = np.array([c, c, c])"
   ]
  },
  {
   "cell_type": "code",
   "execution_count": null,
   "id": "8dcf520b-a7ec-47c6-bfe8-dc7de15efeb1",
   "metadata": {},
   "outputs": [],
   "source": [
    "_ = plt.imshow(line_arr, vmin=0, vmax=255, interpolation=None)"
   ]
  },
  {
   "cell_type": "markdown",
   "id": "553b2004-7fe6-4ca7-89ab-668a94ac2152",
   "metadata": {},
   "source": [
    "This function converts tile coordinates at a given detail level to an integer-encoded quadkey."
   ]
  },
  {
   "cell_type": "code",
   "execution_count": null,
   "id": "90cbc695-3e52-4dab-952d-b48231ab3e23",
   "metadata": {},
   "outputs": [],
   "source": [
    "@jit(nopython=True)\n",
    "def tile_to_qk(x, y, level):\n",
    "    \"\"\"\n",
    "    Converts tile coordinates to a quadkey\n",
    "    Code adapted from https://docs.microsoft.com/en-us/bingmaps/articles/bing-maps-tile-system\n",
    "    :param x: Tile x coordinate\n",
    "    :param y: Tile y coordinate\n",
    "    :param level: Detail leve;\n",
    "    :return: QuadKey\n",
    "    \"\"\"\n",
    "    q = numba.types.uint64(0)\n",
    "    for i in range(level, 0, -1):\n",
    "        mask = 1 << (i - 1)\n",
    "\n",
    "        q = q << 2\n",
    "        if (x & mask) != 0:\n",
    "            q += 1\n",
    "        if (y & mask) != 0:\n",
    "            q += 2\n",
    "    return q"
   ]
  },
  {
   "cell_type": "markdown",
   "id": "1ad15daf-cbd2-4aaa-9cbf-bfd0f89566f2",
   "metadata": {},
   "source": [
    "This function converts tile coordinates at a given detail level to a string-encoded quadkey."
   ]
  },
  {
   "cell_type": "code",
   "execution_count": null,
   "id": "e8a46764-d766-4ff2-9f4a-75be5e1694c3",
   "metadata": {},
   "outputs": [],
   "source": [
    "@jit(nopython=True)\n",
    "def tile_to_str(x, y, level):\n",
    "    \"\"\"\n",
    "    Converts tile coordinates to a quadkey\n",
    "    Code adapted from https://docs.microsoft.com/en-us/bingmaps/articles/bing-maps-tile-system\n",
    "    :param x: Tile x coordinate\n",
    "    :param y: Tile y coordinate\n",
    "    :param level: Detail leve;\n",
    "    :return: QuadKey\n",
    "    \"\"\"\n",
    "    q = \"\"\n",
    "    for i in range(level, 0, -1):\n",
    "        mask = 1 << (i - 1)\n",
    "\n",
    "        c = 0\n",
    "        if (x & mask) != 0:\n",
    "            c += 1\n",
    "        if (y & mask) != 0:\n",
    "            c += 2\n",
    "        q = q + str(c)\n",
    "    return q"
   ]
  },
  {
   "cell_type": "markdown",
   "id": "38c1915b-9e6c-4169-91f9-2306b89fdd02",
   "metadata": {},
   "source": [
    "The `get_qk_line` function draws a line between the given endpoints (expressed in latitude and longitude coordinates) into a sequence of tuples containing the quadkey and its weight."
   ]
  },
  {
   "cell_type": "code",
   "execution_count": null,
   "id": "fbc42eb9-f46e-4d17-b27c-7d009a76964e",
   "metadata": {},
   "outputs": [],
   "source": [
    "def get_qk_line(loc0, loc1, level):\n",
    "    qk0 = quadkey.from_geo((loc0['y'], loc0['x']), level)\n",
    "    qk1 = quadkey.from_geo((loc1['y'], loc1['x']), level)\n",
    "    \n",
    "    ((tx0, ty0), _) = qk0.to_tile()\n",
    "    ((tx1, ty1), _) = qk1.to_tile()\n",
    "\n",
    "    line = smooth_line(tx0, ty0, tx1, ty1)\n",
    "    return [(quadkey.from_str(tile_to_str(p[0], p[1], level)), p[2]) for p in line if p[2] > 0.0]"
   ]
  },
  {
   "cell_type": "markdown",
   "id": "0a5c1cf2-ec39-4114-a499-bfb18a77a687",
   "metadata": {},
   "source": [
    "The `map_route_qk` function generates a map with the generated route and overlays the _drawn_ quadkeys."
   ]
  },
  {
   "cell_type": "code",
   "execution_count": null,
   "id": "822918aa-3740-4a45-ad78-edd6413ac00e",
   "metadata": {},
   "outputs": [],
   "source": [
    "def map_route_qk(g, route, level=20):\n",
    "    html_map = folium.Map(prefer_canvas=True, tiles=\"cartodbpositron\", max_zoom=20, control_scale=True)\n",
    "    \n",
    "    bb_list = []\n",
    "    \n",
    "    for n in route:\n",
    "        loc = g.nodes[n]\n",
    "        lat = loc['y']\n",
    "        lon = loc['x']\n",
    "        CircleMarker((lat, lon), radius=2, color=\"red\", fill=\"red\", opacity=0.5, tooltip=n, popup=n).add_to(html_map)\n",
    "        bb_list.append((lat, lon))\n",
    "    \n",
    "    for n0, n1 in pairwise(route):\n",
    "        edge = g[n0][n1]\n",
    "        l0 = g.nodes[n0]\n",
    "        l1 = g.nodes[n1]\n",
    "        line = [(l0['y'], l0['x']), (l1['y'], l1['x'])]\n",
    "        \n",
    "        PolyLine(line, weight=3, opacity=0.5, popup=edge[0]).add_to(html_map)\n",
    "        \n",
    "        for qk, weight in get_qk_line(l0, l1, level):\n",
    "            create_map_quadkey(qk, color=\"green\", opacity=weight).add_to(html_map)\n",
    "            # print(qk.to_quadint() >> (64-2*level), edge[0]['bearing'])\n",
    "            \n",
    "    return fit_bounding_box(html_map, bb_list)    "
   ]
  },
  {
   "cell_type": "code",
   "execution_count": null,
   "id": "80a4212c-5e40-4b72-b47b-a04831b7b495",
   "metadata": {
    "tags": []
   },
   "outputs": [],
   "source": [
    "map_route_qk(g, route)"
   ]
  },
  {
   "cell_type": "markdown",
   "id": "681f5f0a-4170-4ec7-841a-e9bab729db08",
   "metadata": {},
   "source": [
    "This function queries a specific quadkey for speed vectors that align with a given bearing and at a given time slot."
   ]
  },
  {
   "cell_type": "code",
   "execution_count": null,
   "id": "ed7fbf7f-a39a-4d06-b707-a7f34682e3e0",
   "metadata": {},
   "outputs": [],
   "source": [
    "def get_quadkey_speeds(db, qk_int, bearing, week_day, day_slot, angle_delta = 5.0):\n",
    "    sql = \"\"\"\n",
    "    select speed\n",
    "    from   signal\n",
    "    where  quadkey = ? and \n",
    "           cos(radians(bearing - ?)) >= cos(radians(?)) and\n",
    "           week_day = ? and day_slot = ?;\n",
    "    \"\"\"\n",
    "    speeds = db.query(sql, [qk_int, bearing, angle_delta, week_day, day_slot])\n",
    "    if speeds is None:\n",
    "        return []\n",
    "    elif len(speeds):\n",
    "        return [v[0] for v in speeds if v is not None]\n",
    "    else:\n",
    "        return []"
   ]
  },
  {
   "cell_type": "markdown",
   "id": "a474855c-ab6f-41b6-a33a-bc0c08a4b133",
   "metadata": {},
   "source": [
    "The `infer_edge_time` computes the duration of travelling through an edge by querying all _anti-aliased drawn_ quadkeys."
   ]
  },
  {
   "cell_type": "code",
   "execution_count": null,
   "id": "3ac73b79-67dc-4c30-b7a8-3cb5f5b7df34",
   "metadata": {},
   "outputs": [],
   "source": [
    "def infer_edge_time(g, node_ini, node_end, week_day, time_s, level=20):\n",
    "    db = EVedDb()\n",
    "    edge = g[node_ini][node_end]\n",
    "    bearing = edge[0]['bearing']\n",
    "    distance = edge[0]['length']\n",
    "    day_slot = int(time_s / 600)\n",
    "    \n",
    "    location_ini = g.nodes[node_ini]\n",
    "    location_end = g.nodes[node_end]\n",
    "\n",
    "    speeds = []\n",
    "    total_weight = 0.0\n",
    "    line = get_qk_line(location_ini, location_end, level)\n",
    "    for qk, weight in line:\n",
    "        qk_int = qk.to_quadint() >> (64-2*level)\n",
    "        qk_speeds = get_quadkey_speeds(db, qk_int, bearing, week_day, day_slot)\n",
    "        \n",
    "        if qk_speeds is not None and len(qk_speeds):\n",
    "            speeds.extend([s * weight for s in qk_speeds if s is not None])\n",
    "            total_weight += weight\n",
    "            \n",
    "    duration_s = edge[0]['travel_time']\n",
    "    if len(speeds) > 0:\n",
    "        speed_kmh = np.average(np.array(speeds)) / total_weight\n",
    "        speed_ms = speed_kmh / 3.6\n",
    "        if speed_ms > 0:\n",
    "            duration_s = distance / speed_ms\n",
    "        \n",
    "    return duration_s"
   ]
  },
  {
   "cell_type": "markdown",
   "id": "7b6b1fae-be3e-45e7-9ef1-dce2b8b809f7",
   "metadata": {},
   "source": [
    "Infer the total route time using the week day and day time. Note that the function increments the day if needed."
   ]
  },
  {
   "cell_type": "code",
   "execution_count": null,
   "id": "52da5e73-e559-4504-ad94-babb0b2e1272",
   "metadata": {},
   "outputs": [],
   "source": [
    "def infer_route_time(g, route, week_day, hours=12, minutes=0):\n",
    "    seconds_in_day = 24 * 60 * 60\n",
    "    time_s = (hours * 60 + minutes) * 60\n",
    "    duration_s = 0\n",
    "    for n0, n1 in pairwise(route):\n",
    "        d = infer_edge_time(g, n0, n1, week_day, time_s)\n",
    "        time_s += d\n",
    "        duration_s += d\n",
    "        \n",
    "        if time_s > seconds_in_day:\n",
    "            time_s -= seconds_in_day\n",
    "            week_day = (week_day + 1) % 7\n",
    "    return duration_s"
   ]
  },
  {
   "cell_type": "markdown",
   "id": "1fd5e785-d66e-4a44-bc46-2bad05aba097",
   "metadata": {},
   "source": [
    "This function aggregates the route's edges travel time."
   ]
  },
  {
   "cell_type": "code",
   "execution_count": null,
   "id": "167bfec7-e667-48ea-b9e6-c9fb7ec7b7c8",
   "metadata": {},
   "outputs": [],
   "source": [
    "def default_route_time(g, route):\n",
    "    duration_s = 0\n",
    "    for node_ini, node_end in pairwise(route):\n",
    "        edge = g[node_ini][node_end]\n",
    "        duration_s += edge[0]['travel_time']\n",
    "    return duration_s"
   ]
  },
  {
   "cell_type": "code",
   "execution_count": null,
   "id": "b85d2b0c-45be-4bb8-902b-8945c3974580",
   "metadata": {},
   "outputs": [],
   "source": [
    "def_time = default_route_time(g, route)\n",
    "def_time // 3600, def_time // 60"
   ]
  },
  {
   "cell_type": "code",
   "execution_count": null,
   "id": "eeda63e9-a19b-48c0-9e11-40ca2df54efa",
   "metadata": {},
   "outputs": [],
   "source": [
    "route_time = infer_route_time(g, route, week_day=1, hours=23, minutes=0)\n",
    "route_time // 3600, route_time // 60"
   ]
  },
  {
   "cell_type": "markdown",
   "id": "dd7fc118-8715-4c21-bc27-20c15102be4a",
   "metadata": {},
   "source": [
    "## Chart the Route Durations\n",
    "\n",
    "We now see how the route duration varies throughout the day."
   ]
  },
  {
   "cell_type": "code",
   "execution_count": null,
   "id": "aea0fc6c-7228-4533-be16-786388d9625c",
   "metadata": {},
   "outputs": [],
   "source": [
    "def reformat_time_labels(labels):\n",
    "    slots = [int(l.replace('−', '-')) for l in labels]\n",
    "    labels = [f\"{int(s/6):02}:{int((s/6 - int(s/6))*60+0.5):02}\" for s in slots]\n",
    "    return labels"
   ]
  },
  {
   "cell_type": "code",
   "execution_count": null,
   "id": "3420e45b-85bd-45bf-b585-c585b824b2db",
   "metadata": {},
   "outputs": [],
   "source": [
    "def reformat_duration_labels(labels):\n",
    "    slots = [int(l.replace('−', '-')) for l in labels]\n",
    "    labels = [f\"{int(s/60):02}:{int((s/60 - int(s/60))*60+0.5):02}\" for s in slots]\n",
    "    return labels"
   ]
  },
  {
   "cell_type": "code",
   "execution_count": null,
   "id": "bcf138ba-42d7-4d54-b1d5-56706dd54cbf",
   "metadata": {},
   "outputs": [],
   "source": [
    "weekdays = [\"Sunday\", \"Monday\", \"Tuesday\", \"Wednesday\", \"Thursday\", \"Friday\", \"Saturday\"]"
   ]
  },
  {
   "cell_type": "code",
   "execution_count": null,
   "id": "f96301c7-4aa4-4760-a2ca-9391dce1b87f",
   "metadata": {},
   "outputs": [],
   "source": [
    "xs = np.linspace(0, 143, num=144)\n",
    "ys = np.zeros_like(xs)\n",
    "\n",
    "week_day = 1\n",
    "i = 0\n",
    "for hour in tqdm(range(24)):\n",
    "    for slot in range(6):\n",
    "        ys[i] = infer_route_time(g, route, week_day, hours=hour, minutes=slot * 10)\n",
    "        i += 1"
   ]
  },
  {
   "cell_type": "code",
   "execution_count": null,
   "id": "e64b305d-bd7d-4fd6-9d2f-10157bc46fbc",
   "metadata": {
    "tags": []
   },
   "outputs": [],
   "source": [
    "fig, ax = plt.subplots()\n",
    "ax.plot(xs, ys)\n",
    "x_labels = reformat_time_labels([item.get_text() for item in ax.get_xticklabels()])\n",
    "y_labels = reformat_duration_labels([item.get_text() for item in ax.get_yticklabels()])\n",
    "_ = ax.set_xticklabels(x_labels)\n",
    "_ = ax.set_yticklabels(y_labels)\n",
    "plt.xlabel(\"Time of day (hh:mm)\")\n",
    "plt.ylabel(\"Trip duration (mm:ss)\")\n",
    "plt.title(weekdays[week_day])"
   ]
  },
  {
   "cell_type": "markdown",
   "id": "3c3909e0-ce29-4112-9a41-49c346dd0c21",
   "metadata": {},
   "source": [
    "Now, let's see how the weekly average behaves."
   ]
  },
  {
   "cell_type": "code",
   "execution_count": null,
   "id": "fa36e4b4-229a-4a7a-9c79-ac3dddade710",
   "metadata": {},
   "outputs": [],
   "source": [
    "xs = np.linspace(0, 143, num=144)\n",
    "ys = np.zeros_like(xs)\n",
    "\n",
    "week_day = 0\n",
    "i = 0\n",
    "for hour in tqdm(range(24)):\n",
    "    for slot in range(6):\n",
    "        for week_day in range(7):\n",
    "            ys[i] += infer_route_time(g, route, week_day, hours=hour, minutes=slot * 10)\n",
    "        ys[i] /= 7\n",
    "        i += 1"
   ]
  },
  {
   "cell_type": "code",
   "execution_count": null,
   "id": "aa236f04-6c11-46f6-bb79-a96bc75b5b00",
   "metadata": {
    "tags": []
   },
   "outputs": [],
   "source": [
    "fig, ax = plt.subplots()\n",
    "ax.plot(xs, ys)\n",
    "x_labels = reformat_time_labels([item.get_text() for item in ax.get_xticklabels()])\n",
    "y_labels = reformat_duration_labels([item.get_text() for item in ax.get_yticklabels()])\n",
    "_ = ax.set_xticklabels(x_labels)\n",
    "_ = ax.set_yticklabels(y_labels)\n",
    "plt.xlabel(\"Time of day (hh:mm)\")\n",
    "plt.ylabel(\"Trip duration (mm:ss)\")\n",
    "plt.title(\"Weekly Average\")"
   ]
  },
  {
   "cell_type": "markdown",
   "id": "b70d3767-018f-4e9a-b60c-d1199673a00e",
   "metadata": {},
   "source": [
    "## Speed Coloring\n",
    "\n",
    "Here we draw the route using colors that reflect the actual speed in comparison to the map speed."
   ]
  },
  {
   "cell_type": "code",
   "execution_count": null,
   "id": "b8f23054-717a-4339-bdfb-c48f24411650",
   "metadata": {},
   "outputs": [],
   "source": [
    "def map_route_speed(g, route, week_day, hours, minutes):\n",
    "    html_map = folium.Map(prefer_canvas=True, tiles=\"cartodbpositron\", max_zoom=20, control_scale=True)\n",
    "    \n",
    "    bb_list = []\n",
    "    seconds_in_day = 24 * 60 * 60\n",
    "    time_s = (hours * 60 + minutes) * 60\n",
    "    duration_s = 0\n",
    "    \n",
    "    for n0, n1 in pairwise(route):\n",
    "        edge = g[n0][n1]\n",
    "        l0 = g.nodes[n0]\n",
    "        l1 = g.nodes[n1]\n",
    "        line = [(l0['y'], l0['x']), (l1['y'], l1['x'])]\n",
    "        \n",
    "        edge_s = edge[0]['travel_time']\n",
    "\n",
    "        d = infer_edge_time(g, n0, n1, week_day, time_s)\n",
    "        time_s += d\n",
    "        duration_s += d\n",
    "        \n",
    "        if time_s > seconds_in_day:\n",
    "            time_s -= seconds_in_day\n",
    "            week_day = (week_day + 1) % 7\n",
    "            \n",
    "        factor = d / edge_s\n",
    "        \n",
    "        if factor < 1.0:\n",
    "            color = \"lightgreen\"\n",
    "        elif factor < 1.22:\n",
    "            color = \"green\"\n",
    "        elif factor < 1.8:\n",
    "            color = \"orange\"\n",
    "        else:\n",
    "            color = \"red\"\n",
    "\n",
    "        PolyLine(line, weight=3, opacity=1, color=color).add_to(html_map)\n",
    "        \n",
    "        bb_list.extend(line)\n",
    "            \n",
    "    return fit_bounding_box(html_map, bb_list)    "
   ]
  },
  {
   "cell_type": "code",
   "execution_count": null,
   "id": "bfb5e663-6e31-4e7e-ac76-369023d0d17a",
   "metadata": {},
   "outputs": [],
   "source": [
    "map_route_speed(g, route, week_day=1, hours=21, minutes=0)"
   ]
  },
  {
   "cell_type": "code",
   "execution_count": null,
   "id": "1561472e-c756-43da-b111-7bd4157d9e23",
   "metadata": {},
   "outputs": [],
   "source": []
  }
 ],
 "metadata": {
  "kernelspec": {
   "display_name": "Python 3 (ipykernel)",
   "language": "python",
   "name": "python3"
  },
  "language_info": {
   "codemirror_mode": {
    "name": "ipython",
    "version": 3
   },
   "file_extension": ".py",
   "mimetype": "text/x-python",
   "name": "python",
   "nbconvert_exporter": "python",
   "pygments_lexer": "ipython3",
   "version": "3.10.4"
  }
 },
 "nbformat": 4,
 "nbformat_minor": 5
}
