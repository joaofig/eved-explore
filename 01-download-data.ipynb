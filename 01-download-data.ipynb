{
 "cells": [
  {
   "cell_type": "markdown",
   "id": "878795d5",
   "metadata": {},
   "source": [
    "# 1-Download Data\n",
    "\n",
    "Use this notebook to download the EVED dataset into a local folder and decompress the ZIP file."
   ]
  },
  {
   "cell_type": "markdown",
   "id": "abd3dfc2",
   "metadata": {},
   "source": [
    "Start by cloning the repo."
   ]
  },
  {
   "cell_type": "code",
   "execution_count": 1,
   "id": "2bd1aa89-f667-492f-a0d5-efd5d3a1f646",
   "metadata": {},
   "outputs": [
    {
     "name": "stdout",
     "output_type": "stream",
     "text": [
      "Cloning into './eved'...\n",
      "remote: Enumerating objects: 17, done.\u001b[K\n",
      "remote: Counting objects: 100% (17/17), done.\u001b[K\n",
      "remote: Compressing objects: 100% (15/15), done.\u001b[K\n",
      "remote: Total 17 (delta 4), reused 0 (delta 0), pack-reused 0\u001b[K\n",
      "Unpacking objects: 100% (17/17), 627.76 MiB | 13.58 MiB/s, done.\n"
     ]
    }
   ],
   "source": [
    "! git clone https://Datarepo@bitbucket.org/datarepo/eved_dataset.git ./eved"
   ]
  },
  {
   "cell_type": "markdown",
   "id": "3b21a3c7",
   "metadata": {},
   "source": [
    "Now, decompress the ZIP file"
   ]
  },
  {
   "cell_type": "code",
   "execution_count": 1,
   "id": "4013d3f8-7bf6-4afd-9754-fdcbcf9982fe",
   "metadata": {},
   "outputs": [
    {
     "name": "stdout",
     "output_type": "stream",
     "text": [
      "\n",
      "7-Zip [64] 17.04 : Copyright (c) 1999-2021 Igor Pavlov : 2017-08-28\n",
      "p7zip Version 17.04 (locale=utf8,Utf16=on,HugeFiles=on,64 bits,12 CPUs x64)\n",
      "\n",
      "Scanning the drive for archives:\n",
      "  0M Scan ./eved/dat                    1 file, 656191886 bytes (626 MiB)\n",
      "\n",
      "Extracting archive: ./eved/data/eVED.zip\n",
      "--\n",
      "Path = ./eved/data/eVED.zip\n",
      "Type = zip\n",
      "Physical Size = 656191886\n",
      "\n",
      "      1% - eVED/eVED_171101_week.c                                2% - eVED/eVED_171101_week.c                                2% 1 - eVED/eVED_171108_week.c                                  3% 1 - eVED/eVED_171108_week.c                                  4% 2 - eVED/eVED_171115_week.c                                  5% 2 - eVED/eVED_171115_week.c                                  6% 2 - eVED/eVED_171115_week.c                                  7% 3 - eVED/eVED_171122_week.c                                  8% 3 - eVED/eVED_171122_week.c                                  9% 4 - eVED/eVED_171129_week.c                                 10% 4 - eVED/eVED_171129_week.c                                 11% 4 - eVED/eVED_171129_week.c                                 12% 5 - eVED/eVED_171206_week.c                                 13% 5 - eVED/eVED_171206_week.c                                 14% 5 - eVED/eVED_171206_week.c                                 14% 6 - eVED/eVED_171213_week.c                                 15% 6 - eVED/eVED_171213_week.c                                 16% 6 - eVED/eVED_171213_week.c                                 17% 6 - eVED/eVED_171213_week.c                                 17% 7 - eVED/eVED_171220_week.c                                 18% 7 - eVED/eVED_171220_week.c                                 19% 7 - eVED/eVED_171220_week.c                                 20% 8 - eVED/eVED_171227_week.c                                 21% 8 - eVED/eVED_171227_week.c                                 21% 9 - eVED/eVED_180103_week.c                                 22% 9 - eVED/eVED_180103_week.c                                 23% 10 - eVED/eVED_180110_week.cs                                   24% 10 - eVED/eVED_180110_week.cs                                   25% 10 - eVED/eVED_180110_week.cs                                   25% 11 - eVED/eVED_180117_week.cs                                   26% 11 - eVED/eVED_180117_week.cs                                   27% 11 - eVED/eVED_180117_week.cs                                   28% 12 - eVED/eVED_180124_week.cs                                   29% 12 - eVED/eVED_180124_week.cs                                   29% 1       30% 13 - eVED/eVED_180131_week.cs                                   31% 13 - eVED/eVED_180131_week.cs                                   31% 14 - eVED/eVED_180207_week.cs                                   32% 14 - eVED/eVED_180207_week.cs                                   33% 14 - eVED/eVED_180207_week.cs                                   34% 15 - eVED/eVED_180214_week.cs                                   35% 15 - eVED/eVED_180214_week.cs                                   35% 16 - eVED/eVED_180221_week.cs                                   36% 16 - eVED/eVED_180221_week.cs                                   37% 17 - eVED/eVED_180228_week.cs                                   38% 17 - eVED/eVED_180228_week.cs                                   38% 18 - eVED/eVED_180307_week.cs                                   39% 18 - eVED/eVED_180307_week.cs                                   40% 18 - eVED/eVED_180307_week.cs                                   40% 19 - eVED/eVED_180314_week.cs                                   41% 19 - eVED/eVED_180314_week.cs                                   42% 20 - eVED/eVED_180321_week.cs                                   43% 20 - eVED/eVED_180321_week.cs                                   44% 20 - eVED/eVED_180321_week.cs                                   44% 21 - eVED/eVED_180328_week.cs                                   45% 21 - eVED/eVED_180328_week.cs                                   46% 22 - eVED/eVED_180404_week.cs                                   47% 22 - eVED/eVED_180404_week.cs                                   48% 23 - eVED/eVED_180411_week.cs                                   49% 23 - eVED/eVED_180411_week.cs                                   49% 2       50% 24 - eVED/eVED_180418_week.cs                                   51% 24 - eVED/eVED_180418_week.cs                                   52% 25 - eVED/eVED_180425_week.cs                                   53% 25 - eVED/eVED_180425_week.cs                                   53% 2       54% 26 - eVED/eVED_180502_week.cs                                   55% 26 - eVED/eVED_180502_week.cs                                   56% 27 - eVED/eVED_180509_week.cs                                   57% 27 - eVED/eVED_180509_week.cs                                   57% 28 - eVED/eVED_180516_week.cs                                   58% 28 - eVED/eVED_180516_week.cs                                   59% 28 - eVED/eVED_180516_week.cs                                   60% 29 - eVED/eVED_180523_week.cs                                   61% 29 - eVED/eVED_180523_week.cs                                   61% 30 - eVED/eVED_180530_week.cs                                   62% 30 - eVED/eVED_180530_week.cs                                   63% 30 - eVED/eVED_180530_week.cs                                   64% 31 - eVED/eVED_180606_week.cs                                   65% 31 - eVED/eVED_180606_week.cs                                   65% 32 - eVED/eVED_180613_week.cs                                   66% 32 - eVED/eVED_180613_week.cs                                   67% 33 - eVED/eVED_180620_week.cs                                   68% 33 - eVED/eVED_180620_week.cs                                   69% 33 - eVED/eVED_180620_week.cs                                   69% 34 - eVED/eVED_180627_week.cs                                   70% 34 - eVED/eVED_180627_week.cs                                   71% 35 - eVED/eVED_180704_week.cs                                   72% 35 - eVED/eVED_180704_week.cs                                   72% 36 - eVED/eVED_180711_week.cs                                   73% 36 - eVED/eVED_180711_week.cs                                   74% 37 - eVED/eVED_180718_week.cs                                   75% 37 - eVED/eVED_180718_week.cs                                   75% 3       76% 38 - eVED/eVED_180725_week.cs                                   77% 39 - eVED/eVED_180801_week.cs                                   78% 39 - eVED/eVED_180801_week.cs                                   79% 39 - eVED/eVED_180801_week.cs                                   79% 40 - eVED/eVED_180808_week.cs                                   80% 40 - eVED/eVED_180808_week.cs                                   81% 41 - eVED/eVED_180815_week.cs                                   81% 4       82% 42 - eVED/eVED_180822_week.cs                                   83% 43 - eVED/eVED_180829_week.cs                                   84% 43 - eVED/eVED_180829_week.cs                                   84% 44 - eVED/eVED_180905_week.cs                                   85% 44 - eVED/eVED_180905_week.cs                                   86% 44 - eVED/eVED_180905_week.cs                                   86% 45 - eVED/eVED_180912_week.cs                                   87% 45 - eVED/eVED_180912_week.cs                                   88% 46 - eVED/eVED_180919_week.cs                                   89% 46 - eVED/eVED_180919_week.cs                                   89% 47 - eVED/eVED_180926_week.cs                                   90% 47 - eVED/eVED_180926_week.cs                                   91% 47 - eVED/eVED_180926_week.cs                                   91% 48 - eVED/eVED_181003_week.cs                                   92% 48 - eVED/eVED_181003_week.cs                                   93% 49 - eVED/eVED_181010_week.cs                                   94% 49 - eVED/eVED_181010_week.cs                                   94% 50 - eVED/eVED_181017_week.cs                                   95% 50 - eVED/eVED_181017_week.cs                                   96% 51 - eVED/eVED_181024_week.cs                                   97% 51 - eVED/eVED_181024_week.cs                                   97% 5       98% 52 - eVED/eVED_181031_week.cs                                   99% 52 - eVED/eVED_181031_week.cs                                  Everything is Ok\n",
      "\n",
      "Files: 54\n",
      "Size:       5832911694\n",
      "Compressed: 656191886\n"
     ]
    }
   ],
   "source": [
    "! 7z x ./eved/data/eVED.zip -o./data"
   ]
  },
  {
   "cell_type": "code",
   "execution_count": null,
   "id": "f3fe6fe6-003b-4068-be75-776780962977",
   "metadata": {},
   "outputs": [],
   "source": []
  }
 ],
 "metadata": {
  "kernelspec": {
   "display_name": "Python 3 (ipykernel)",
   "language": "python",
   "name": "python3"
  },
  "language_info": {
   "codemirror_mode": {
    "name": "ipython",
    "version": 3
   },
   "file_extension": ".py",
   "mimetype": "text/x-python",
   "name": "python",
   "nbconvert_exporter": "python",
   "pygments_lexer": "ipython3",
   "version": "3.10.4"
  }
 },
 "nbformat": 4,
 "nbformat_minor": 5
}
