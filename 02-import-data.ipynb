{
 "cells": [
  {
   "cell_type": "code",
   "execution_count": null,
   "id": "d661eb5f-84cb-4ea5-adaa-32aff8c00821",
   "metadata": {},
   "outputs": [],
   "source": []
  },
  {
   "cell_type": "code",
   "execution_count": 1,
   "id": "e07089c6-a8fc-4cfc-9c73-5b89cccfdf96",
   "metadata": {},
   "outputs": [],
   "source": [
    "import os\n",
    "import numpy as np\n",
    "import pandas as pd\n",
    "\n",
    "from tqdm.notebook import tqdm\n",
    "from db.api import EVedDb"
   ]
  },
  {
   "cell_type": "code",
   "execution_count": null,
   "id": "634e31c2-8f48-4b54-859f-d4640bae0a4a",
   "metadata": {},
   "outputs": [],
   "source": []
  },
  {
   "cell_type": "code",
   "execution_count": 2,
   "id": "1cf9a509-7048-45f1-b3f5-3b88620e51e1",
   "metadata": {},
   "outputs": [],
   "source": [
    "data_path = \"./data/eVED\""
   ]
  },
  {
   "cell_type": "code",
   "execution_count": 3,
   "id": "691bead7-4f43-4898-962c-adbad721e90a",
   "metadata": {},
   "outputs": [
    {
     "data": {
      "application/vnd.jupyter.widget-view+json": {
       "model_id": "d995a10264604da089c014a4b1d78905",
       "version_major": 2,
       "version_minor": 0
      },
      "text/plain": [
       "  0%|          | 0/55 [00:00<?, ?it/s]"
      ]
     },
     "metadata": {},
     "output_type": "display_data"
    }
   ],
   "source": [
    "files = [os.path.join(data_path, file) for file in tqdm(os.listdir(data_path)) if file.endswith(\".csv\")]"
   ]
  },
  {
   "cell_type": "code",
   "execution_count": null,
   "id": "54cab592-784a-42f9-a7d7-2f240fc022d7",
   "metadata": {},
   "outputs": [],
   "source": []
  },
  {
   "cell_type": "code",
   "execution_count": 4,
   "id": "fc904896-da3f-4a2e-ba8c-d2432105b615",
   "metadata": {},
   "outputs": [
    {
     "data": {
      "text/plain": [
       "'./data/eVED/eVED_180509_week.csv'"
      ]
     },
     "execution_count": 4,
     "metadata": {},
     "output_type": "execute_result"
    }
   ],
   "source": [
    "files[0]"
   ]
  },
  {
   "cell_type": "code",
   "execution_count": null,
   "id": "d31ea8c2-4091-48b0-adea-9b5534004b82",
   "metadata": {},
   "outputs": [],
   "source": []
  },
  {
   "cell_type": "code",
   "execution_count": 5,
   "id": "fee9c4fe-b288-4c12-bf4a-e5aecaa23a00",
   "metadata": {},
   "outputs": [],
   "source": [
    "def read_data_frame(filename):\n",
    "    columns = ['DayNum', 'VehId', 'Trip', 'Timestamp(ms)', 'Latitude[deg]',\n",
    "               'Longitude[deg]', 'Vehicle Speed[km/h]', 'MAF[g/sec]',\n",
    "               'Engine RPM[RPM]', 'Absolute Load[%]', 'OAT[DegC]', 'Fuel Rate[L/hr]',\n",
    "               'Air Conditioning Power[kW]', 'Air Conditioning Power[Watts]',\n",
    "               'Heater Power[Watts]', 'HV Battery Current[A]', 'HV Battery SOC[%]',\n",
    "               'HV Battery Voltage[V]', 'Short Term Fuel Trim Bank 1[%]',\n",
    "               'Short Term Fuel Trim Bank 2[%]', 'Long Term Fuel Trim Bank 1[%]',\n",
    "               'Long Term Fuel Trim Bank 2[%]', 'Elevation Raw[m]',\n",
    "               'Elevation Smoothed[m]', 'Gradient', 'Energy_Consumption',\n",
    "               'Matchted Latitude[deg]', 'Matched Longitude[deg]', 'Match Type',\n",
    "               'Class of Speed Limit', 'Speed Limit[km/h]',\n",
    "               'Speed Limit with Direction[km/h]', 'Intersection', 'Bus Stops',\n",
    "               'Focus Points']\n",
    "    types = {'DayNum': np.float64,\n",
    "             'VehId': np.int64,\n",
    "             'Trip': np.int64,\n",
    "             'Timestamp(ms)': np.int64,\n",
    "             'Latitude[deg]': np.float64,\n",
    "             'Longitude[deg]': np.float64,\n",
    "             'Vehicle Speed[km/h]': np.float64,\n",
    "             'MAF[g/sec]': np.float64,\n",
    "             'Engine RPM[RPM]': np.float64,\n",
    "             'Absolute Load[%]': np.float64,\n",
    "             'OAT[DegC]': np.float64,\n",
    "             'Fuel Rate[L/hr]': np.float64,\n",
    "             'Air Conditioning Power[kW]': np.float64,\n",
    "             'Air Conditioning Power[Watts]': np.float64,\n",
    "             'Heater Power[Watts]': np.float64,\n",
    "             'HV Battery Current[A]': np.float64,\n",
    "             'HV Battery SOC[%]': np.float64,\n",
    "             'HV Battery Voltage[V]': np.float64,\n",
    "             'Short Term Fuel Trim Bank 1[%]': np.float64,\n",
    "             'Short Term Fuel Trim Bank 2[%]': np.float64,\n",
    "             'Elevation Raw[m]': np.float64,\n",
    "             'Elevation Smoothed[m]': np.float64,\n",
    "             'Gradient': np.float64,\n",
    "             'Energy_Consumption': np.float64,\n",
    "             'Matchted Latitude[deg]': np.float64,\n",
    "             'Matched Longitude[deg]': np.float64,\n",
    "             'Match Type': np.int32,\n",
    "             'Class of Speed Limit': np.float64,\n",
    "             'Speed Limit[km/h]': np.string_,\n",
    "             'Speed Limit with Direction[km/h]': np.float64,\n",
    "             'Intersection': np.float32,\n",
    "             'Bus Stops': np.float32,\n",
    "             'Focus Points': np.string_\n",
    "            }\n",
    "    df = pd.read_csv(filename, usecols=columns, dtype=types)\n",
    "    return df"
   ]
  },
  {
   "cell_type": "code",
   "execution_count": 6,
   "id": "82735c85-db62-45a2-a599-0e9091f30986",
   "metadata": {},
   "outputs": [],
   "source": [
    "df = read_data_frame(files[0])"
   ]
  },
  {
   "cell_type": "code",
   "execution_count": 7,
   "id": "b3c4c579-4984-402e-9392-068095437f91",
   "metadata": {},
   "outputs": [
    {
     "name": "stdout",
     "output_type": "stream",
     "text": [
      "<class 'pandas.core.frame.DataFrame'>\n",
      "RangeIndex: 421647 entries, 0 to 421646\n",
      "Data columns (total 35 columns):\n",
      " #   Column                            Non-Null Count   Dtype  \n",
      "---  ------                            --------------   -----  \n",
      " 0   DayNum                            421647 non-null  float64\n",
      " 1   VehId                             421647 non-null  int64  \n",
      " 2   Trip                              421647 non-null  int64  \n",
      " 3   Timestamp(ms)                     421647 non-null  int64  \n",
      " 4   Latitude[deg]                     421647 non-null  float64\n",
      " 5   Longitude[deg]                    421647 non-null  float64\n",
      " 6   Vehicle Speed[km/h]               421647 non-null  float64\n",
      " 7   MAF[g/sec]                        334004 non-null  float64\n",
      " 8   Engine RPM[RPM]                   413521 non-null  float64\n",
      " 9   Absolute Load[%]                  307923 non-null  float64\n",
      " 10  OAT[DegC]                         313830 non-null  float64\n",
      " 11  Fuel Rate[L/hr]                   12001 non-null   float64\n",
      " 12  Air Conditioning Power[kW]        12001 non-null   float64\n",
      " 13  Air Conditioning Power[Watts]     50967 non-null   float64\n",
      " 14  Heater Power[Watts]               7866 non-null    float64\n",
      " 15  HV Battery Current[A]             62968 non-null   float64\n",
      " 16  HV Battery SOC[%]                 62968 non-null   float64\n",
      " 17  HV Battery Voltage[V]             62968 non-null   float64\n",
      " 18  Short Term Fuel Trim Bank 1[%]    356222 non-null  float64\n",
      " 19  Short Term Fuel Trim Bank 2[%]    177608 non-null  float64\n",
      " 20  Long Term Fuel Trim Bank 1[%]     276836 non-null  float64\n",
      " 21  Long Term Fuel Trim Bank 2[%]     98106 non-null   float64\n",
      " 22  Elevation Raw[m]                  421647 non-null  float64\n",
      " 23  Elevation Smoothed[m]             421647 non-null  float64\n",
      " 24  Gradient                          413116 non-null  float64\n",
      " 25  Energy_Consumption                284396 non-null  float64\n",
      " 26  Matchted Latitude[deg]            421647 non-null  float64\n",
      " 27  Matched Longitude[deg]            421647 non-null  float64\n",
      " 28  Match Type                        421647 non-null  int32  \n",
      " 29  Class of Speed Limit              412510 non-null  float64\n",
      " 30  Speed Limit[km/h]                 412510 non-null  object \n",
      " 31  Speed Limit with Direction[km/h]  412510 non-null  float64\n",
      " 32  Intersection                      18664 non-null   float32\n",
      " 33  Bus Stops                         7827 non-null    float32\n",
      " 34  Focus Points                      10164 non-null   object \n",
      "dtypes: float32(2), float64(27), int32(1), int64(3), object(2)\n",
      "memory usage: 107.8+ MB\n"
     ]
    }
   ],
   "source": [
    "df.info()"
   ]
  },
  {
   "cell_type": "code",
   "execution_count": null,
   "id": "4fe944fe-c671-4b7b-988e-ff660a0d8581",
   "metadata": {},
   "outputs": [],
   "source": []
  },
  {
   "cell_type": "code",
   "execution_count": 8,
   "id": "261f5738-939f-40f1-83b1-5eacb0d88922",
   "metadata": {},
   "outputs": [],
   "source": [
    "db = EVedDb()"
   ]
  },
  {
   "cell_type": "code",
   "execution_count": null,
   "id": "e6eb360c-e177-4fa8-8170-7afb563a2c0a",
   "metadata": {},
   "outputs": [],
   "source": []
  },
  {
   "cell_type": "code",
   "execution_count": 9,
   "id": "45aa54f2-dacb-4655-8d6e-ecfbc532812e",
   "metadata": {},
   "outputs": [
    {
     "data": {
      "application/vnd.jupyter.widget-view+json": {
       "model_id": "075cc4a557f04d23bad8ff52f7c71df9",
       "version_major": 2,
       "version_minor": 0
      },
      "text/plain": [
       "  0%|          | 0/54 [00:00<?, ?it/s]"
      ]
     },
     "metadata": {},
     "output_type": "display_data"
    }
   ],
   "source": [
    "for file in tqdm(files):\n",
    "    df = read_data_frame(file)\n",
    "    \n",
    "    signals =[row for row in df.itertuples(index=False)]        \n",
    "    db.insert_signals(signals)"
   ]
  },
  {
   "cell_type": "code",
   "execution_count": null,
   "id": "0342842a-eba4-4719-b9ab-0f94e30f4024",
   "metadata": {},
   "outputs": [],
   "source": []
  },
  {
   "cell_type": "code",
   "execution_count": null,
   "id": "12e80115-3783-4ee4-8c69-158ac6543ea2",
   "metadata": {},
   "outputs": [],
   "source": []
  }
 ],
 "metadata": {
  "kernelspec": {
   "display_name": "Python 3 (ipykernel)",
   "language": "python",
   "name": "python3"
  },
  "language_info": {
   "codemirror_mode": {
    "name": "ipython",
    "version": 3
   },
   "file_extension": ".py",
   "mimetype": "text/x-python",
   "name": "python",
   "nbconvert_exporter": "python",
   "pygments_lexer": "ipython3",
   "version": "3.10.4"
  }
 },
 "nbformat": 4,
 "nbformat_minor": 5
}
